{
 "cells": [
  {
   "cell_type": "code",
   "execution_count": 16,
   "metadata": {},
   "outputs": [],
   "source": [
    "import numpy as np\n",
    "import torch\n",
    "import matplotlib.pyplot as plt\n",
    "from tqdm import tqdm\n",
    "import seaborn as sns"
   ]
  },
  {
   "cell_type": "markdown",
   "metadata": {},
   "source": [
    "# Theory\n",
    "\n",
    "We have $$Q \\sim \\chi_k^2$$ when $$Q = \\sum_{i=1}^n Z_i^2$$ where $$Z\\sim \\mathcal N(0,1)$$ \n",
    "\n",
    "## Formulation\n",
    "\n",
    "We have our observation $X = {X_1, ...., X_n}$ as our data. \n",
    "Now our assumption is that $X_i \\sim \\mathcal N(\\mu_i, \\sigma_i^2)$. \n",
    "\n",
    "We want a model to learn to predict $\\hat\\mu_i, \\hat\\sigma_i^2$. \n",
    "\n",
    "So, let's consider the RV $Z_i = \\frac{X_i-\\hat \\mu_i}{\\hat\\sigma_i^2}$, according to central limit theorem $Z_i \\sim \\mathcal N(0,1)$. Then we consider a RV $Q = \\sum_{i=1}^K Z_i^2$ where $K$ is a hyperparameter.\n",
    "\n",
    "Then we have that $Q\\sim \\chi^2_K$. And for $K > 50$ $\\chi^2_K \\rightarrow \\mathcal N(K, 2K)$, hence $Q\\sim N(K, 2K)$\n",
    "\n",
    "### Loss Derivation\n",
    "\n",
    "For the loss we use maximum liklihood of RV $Q$ to estimate parameters. So, $$L(\\mathbf{\\hat\\mu}, \\mathbf{\\hat\\sigma^2}) = -\\prod_j^N p(Q_j|K) \\\\ = -\\sum_j^N log p(Q_j|K) = - \\sum_j^N \\frac{-(Q_j-K)^2}{2K} - \\log (2K) \\\\ = \\frac{1}{2K}\\sum_j^N (Q_j-K)^2 \\\\ = \\frac{1}{2K}\\sum_j^N (\\sum_i^K \\frac{(X_i-\\hat\\mu_i)^2}{\\hat\\sigma^2} -K)^2 $$\n",
    "\n",
    "Note that we consider $K$ to be large here. "
   ]
  },
  {
   "cell_type": "markdown",
   "metadata": {},
   "source": [
    "## Experiment 1: Constant variance, Different means \n",
    "\n",
    "Here we have constant ground truth $\\sigma_i^2 =1 \\space \\forall i$ and different mean $\\mu_i \\forall i \\in {0,...N}$. Then we sample $X_i$ once from each of these $N$ normal distributions. This $X_i$ is our observations and our model will have access to it during training and not the ground truth means and variance. \n",
    "\n",
    "Our aim is to estimate each to these means and variance as $\\hat\\mu_i, \\hat\\sigma_i^2$\n"
   ]
  },
  {
   "cell_type": "markdown",
   "metadata": {},
   "source": [
    "**Generating Training Data**"
   ]
  },
  {
   "cell_type": "code",
   "execution_count": 17,
   "metadata": {},
   "outputs": [
    {
     "name": "stdout",
     "output_type": "stream",
     "text": [
      "Mean:  [ 0.5228459   3.79263476 -0.52358763 ... -1.56418854 -3.29082158\n",
      "  4.77050511]\n",
      "Variance: 1\n"
     ]
    }
   ],
   "source": [
    "# N = 5000\n",
    "num_samples = 5000\n",
    "\n",
    "# \\sigma_i^2 = 1\n",
    "gt_var = 1\n",
    "\n",
    "# \\mu_i ~ N(0, 5^2 = 25)\n",
    "gt_mu = np.random.normal(0,5, num_samples)\n",
    "\n",
    "print(\"Mean: \", gt_mu)\n",
    "print(\"Variance:\", gt_var)"
   ]
  },
  {
   "cell_type": "code",
   "execution_count": 18,
   "metadata": {},
   "outputs": [
    {
     "name": "stdout",
     "output_type": "stream",
     "text": [
      "Training data size: 5000\n"
     ]
    }
   ],
   "source": [
    "gt_observations = np.random.normal(gt_mu, gt_var)\n",
    "gt_observations = torch.tensor(gt_observations)\n",
    "print(\"Training data size:\", len(gt_observations))"
   ]
  },
  {
   "cell_type": "code",
   "execution_count": 19,
   "metadata": {},
   "outputs": [
    {
     "name": "stdout",
     "output_type": "stream",
     "text": [
      "tensor(0.1406, dtype=torch.float64) tensor(26.5118, dtype=torch.float64)\n"
     ]
    }
   ],
   "source": [
    "print(gt_observations.mean(), gt_observations.var())\n"
   ]
  },
  {
   "cell_type": "markdown",
   "metadata": {},
   "source": [
    "**Training Procedure**"
   ]
  },
  {
   "cell_type": "code",
   "execution_count": 20,
   "metadata": {},
   "outputs": [
    {
     "name": "stdout",
     "output_type": "stream",
     "text": [
      "tensor([1., 1., 1.,  ..., 1., 1., 1.], requires_grad=True) tensor([1., 1., 1.,  ..., 1., 1., 1.], requires_grad=True)\n"
     ]
    }
   ],
   "source": [
    "pred_mean = torch.ones(num_samples, requires_grad= True)\n",
    "pred_var = torch.ones(num_samples, requires_grad = True)\n",
    "# pred_var = torch.ones(1, requires_grad = True)\n",
    "\n",
    "print(pred_mean, pred_var)"
   ]
  },
  {
   "cell_type": "code",
   "execution_count": 21,
   "metadata": {},
   "outputs": [],
   "source": [
    "learning_rate = 5e-2\n",
    "optim = torch.optim.SGD([pred_mean, pred_var], lr = learning_rate)\n",
    "\n",
    "# K = 50\n",
    "deg_freedom = 50\n",
    "\n",
    "batch_size = int(num_samples/deg_freedom)"
   ]
  },
  {
   "cell_type": "code",
   "execution_count": 22,
   "metadata": {},
   "outputs": [
    {
     "name": "stderr",
     "output_type": "stream",
     "text": [
      " 14%|█▍        | 287/2000 [00:00<00:01, 1366.99it/s]"
     ]
    },
    {
     "name": "stdout",
     "output_type": "stream",
     "text": [
      "Loss:,  tensor(18051.8190, dtype=torch.float64, grad_fn=<MeanBackward0>)\n",
      "Loss:,  tensor(2743.3685, dtype=torch.float64, grad_fn=<MeanBackward0>)\n",
      "Loss:,  tensor(1979.4288, dtype=torch.float64, grad_fn=<MeanBackward0>)\n",
      "Loss:,  tensor(1572.0438, dtype=torch.float64, grad_fn=<MeanBackward0>)\n",
      "Loss:,  tensor(1319.0150, dtype=torch.float64, grad_fn=<MeanBackward0>)\n",
      "Loss:,  tensor(1141.4607, dtype=torch.float64, grad_fn=<MeanBackward0>)\n",
      "Loss:,  tensor(998.6495, dtype=torch.float64, grad_fn=<MeanBackward0>)\n",
      "Loss:,  tensor(890.7304, dtype=torch.float64, grad_fn=<MeanBackward0>)\n",
      "Loss:,  tensor(805.9882, dtype=torch.float64, grad_fn=<MeanBackward0>)\n",
      "Loss:,  tensor(734.6307, dtype=torch.float64, grad_fn=<MeanBackward0>)\n",
      "Loss:,  tensor(675.2891, dtype=torch.float64, grad_fn=<MeanBackward0>)\n",
      "Loss:,  tensor(623.8623, dtype=torch.float64, grad_fn=<MeanBackward0>)\n",
      "Loss:,  tensor(581.2446, dtype=torch.float64, grad_fn=<MeanBackward0>)\n",
      "Loss:,  tensor(542.3864, dtype=torch.float64, grad_fn=<MeanBackward0>)\n",
      "Loss:,  tensor(507.8245, dtype=torch.float64, grad_fn=<MeanBackward0>)\n",
      "Loss:,  tensor(478.5460, dtype=torch.float64, grad_fn=<MeanBackward0>)\n",
      "Loss:,  tensor(447.5901, dtype=torch.float64, grad_fn=<MeanBackward0>)\n",
      "Loss:,  tensor(422.9736, dtype=torch.float64, grad_fn=<MeanBackward0>)\n",
      "Loss:,  tensor(409.6940, dtype=torch.float64, grad_fn=<MeanBackward0>)\n",
      "Loss:,  tensor(382.0484, dtype=torch.float64, grad_fn=<MeanBackward0>)\n",
      "Loss:,  tensor(364.7905, dtype=torch.float64, grad_fn=<MeanBackward0>)\n",
      "Loss:,  tensor(346.4565, dtype=torch.float64, grad_fn=<MeanBackward0>)\n",
      "Loss:,  tensor(331.3127, dtype=torch.float64, grad_fn=<MeanBackward0>)\n",
      "Loss:,  tensor(316.9524, dtype=torch.float64, grad_fn=<MeanBackward0>)\n",
      "Loss:,  tensor(304.9428, dtype=torch.float64, grad_fn=<MeanBackward0>)\n",
      "Loss:,  tensor(289.5843, dtype=torch.float64, grad_fn=<MeanBackward0>)\n",
      "Loss:,  tensor(282.1667, dtype=torch.float64, grad_fn=<MeanBackward0>)\n",
      "Loss:,  tensor(271.2382, dtype=torch.float64, grad_fn=<MeanBackward0>)\n",
      "Loss:,  tensor(258.4695, dtype=torch.float64, grad_fn=<MeanBackward0>)\n",
      "Loss:,  tensor(247.2293, dtype=torch.float64, grad_fn=<MeanBackward0>)\n",
      "Loss:,  tensor(240.7111, dtype=torch.float64, grad_fn=<MeanBackward0>)\n",
      "Loss:,  tensor(231.6974, dtype=torch.float64, grad_fn=<MeanBackward0>)\n",
      "Loss:,  tensor(224.3479, dtype=torch.float64, grad_fn=<MeanBackward0>)\n",
      "Loss:,  tensor(215.6956, dtype=torch.float64, grad_fn=<MeanBackward0>)\n",
      "Loss:,  tensor(209.3162, dtype=torch.float64, grad_fn=<MeanBackward0>)\n",
      "Loss:,  tensor(203.6799, dtype=torch.float64, grad_fn=<MeanBackward0>)\n",
      "Loss:,  tensor(196.2306, dtype=torch.float64, grad_fn=<MeanBackward0>)\n",
      "Loss:,  tensor(189.5455, dtype=torch.float64, grad_fn=<MeanBackward0>)\n",
      "Loss:,  tensor(185.5886, dtype=torch.float64, grad_fn=<MeanBackward0>)\n",
      "Loss:,  tensor(180.6608, dtype=torch.float64, grad_fn=<MeanBackward0>)\n",
      "Loss:,  tensor(174.1178, dtype=torch.float64, grad_fn=<MeanBackward0>)\n",
      "Loss:,  tensor(170.5403, dtype=torch.float64, grad_fn=<MeanBackward0>)\n",
      "Loss:,  tensor(162.1042, dtype=torch.float64, grad_fn=<MeanBackward0>)\n",
      "Loss:,  tensor(158.0398, dtype=torch.float64, grad_fn=<MeanBackward0>)\n",
      "Loss:,  tensor(155.4330, dtype=torch.float64, grad_fn=<MeanBackward0>)\n",
      "Loss:,  tensor(150.1657, dtype=torch.float64, grad_fn=<MeanBackward0>)\n",
      "Loss:,  tensor(147.3669, dtype=torch.float64, grad_fn=<MeanBackward0>)\n",
      "Loss:,  tensor(143.0102, dtype=torch.float64, grad_fn=<MeanBackward0>)\n",
      "Loss:,  tensor(141.6048, dtype=torch.float64, grad_fn=<MeanBackward0>)\n",
      "Loss:,  tensor(136.4980, dtype=torch.float64, grad_fn=<MeanBackward0>)\n",
      "Loss:,  tensor(132.8296, dtype=torch.float64, grad_fn=<MeanBackward0>)\n",
      "Loss:,  tensor(130.2776, dtype=torch.float64, grad_fn=<MeanBackward0>)\n",
      "Loss:,  tensor(126.5345, dtype=torch.float64, grad_fn=<MeanBackward0>)\n",
      "Loss:,  tensor(123.7438, dtype=torch.float64, grad_fn=<MeanBackward0>)\n",
      "Loss:,  tensor(124.2733, dtype=torch.float64, grad_fn=<MeanBackward0>)\n",
      "Loss:,  tensor(118.6059, dtype=torch.float64, grad_fn=<MeanBackward0>)\n",
      "Loss:,  tensor(117.5562, dtype=torch.float64, grad_fn=<MeanBackward0>)\n",
      "Loss:,  tensor(112.6924, dtype=torch.float64, grad_fn=<MeanBackward0>)\n",
      "Loss:,  "
     ]
    },
    {
     "name": "stderr",
     "output_type": "stream",
     "text": [
      " 30%|███       | 607/2000 [00:00<00:00, 1476.25it/s]"
     ]
    },
    {
     "name": "stdout",
     "output_type": "stream",
     "text": [
      "tensor(111.8606, dtype=torch.float64, grad_fn=<MeanBackward0>)\n",
      "Loss:,  tensor(109.3846, dtype=torch.float64, grad_fn=<MeanBackward0>)\n",
      "Loss:,  tensor(106.1370, dtype=torch.float64, grad_fn=<MeanBackward0>)\n",
      "Loss:,  tensor(104.2900, dtype=torch.float64, grad_fn=<MeanBackward0>)\n",
      "Loss:,  tensor(101.4398, dtype=torch.float64, grad_fn=<MeanBackward0>)\n",
      "Loss:,  tensor(100.4618, dtype=torch.float64, grad_fn=<MeanBackward0>)\n",
      "Loss:,  tensor(97.3352, dtype=torch.float64, grad_fn=<MeanBackward0>)\n",
      "Loss:,  tensor(94.9026, dtype=torch.float64, grad_fn=<MeanBackward0>)\n",
      "Loss:,  tensor(92.7657, dtype=torch.float64, grad_fn=<MeanBackward0>)\n",
      "Loss:,  tensor(92.6199, dtype=torch.float64, grad_fn=<MeanBackward0>)\n",
      "Loss:,  tensor(89.2936, dtype=torch.float64, grad_fn=<MeanBackward0>)\n",
      "Loss:,  tensor(88.1000, dtype=torch.float64, grad_fn=<MeanBackward0>)\n",
      "Loss:,  tensor(86.3931, dtype=torch.float64, grad_fn=<MeanBackward0>)\n",
      "Loss:,  tensor(84.5081, dtype=torch.float64, grad_fn=<MeanBackward0>)\n",
      "Loss:,  tensor(84.9739, dtype=torch.float64, grad_fn=<MeanBackward0>)\n",
      "Loss:,  tensor(81.9454, dtype=torch.float64, grad_fn=<MeanBackward0>)\n",
      "Loss:,  tensor(80.9724, dtype=torch.float64, grad_fn=<MeanBackward0>)\n",
      "Loss:,  tensor(77.7403, dtype=torch.float64, grad_fn=<MeanBackward0>)\n",
      "Loss:,  tensor(76.4426, dtype=torch.float64, grad_fn=<MeanBackward0>)\n",
      "Loss:,  tensor(74.7288, dtype=torch.float64, grad_fn=<MeanBackward0>)\n",
      "Loss:,  tensor(74.8376, dtype=torch.float64, grad_fn=<MeanBackward0>)\n",
      "Loss:,  tensor(74.0833, dtype=torch.float64, grad_fn=<MeanBackward0>)\n",
      "Loss:,  tensor(73.4403, dtype=torch.float64, grad_fn=<MeanBackward0>)\n",
      "Loss:,  tensor(70.0339, dtype=torch.float64, grad_fn=<MeanBackward0>)\n",
      "Loss:,  tensor(68.8263, dtype=torch.float64, grad_fn=<MeanBackward0>)\n",
      "Loss:,  tensor(67.6704, dtype=torch.float64, grad_fn=<MeanBackward0>)\n",
      "Loss:,  tensor(67.8616, dtype=torch.float64, grad_fn=<MeanBackward0>)\n",
      "Loss:,  tensor(65.7673, dtype=torch.float64, grad_fn=<MeanBackward0>)\n",
      "Loss:,  tensor(65.5995, dtype=torch.float64, grad_fn=<MeanBackward0>)\n",
      "Loss:,  tensor(63.6784, dtype=torch.float64, grad_fn=<MeanBackward0>)\n",
      "Loss:,  tensor(63.1354, dtype=torch.float64, grad_fn=<MeanBackward0>)\n",
      "Loss:,  tensor(62.1565, dtype=torch.float64, grad_fn=<MeanBackward0>)\n",
      "Loss:,  tensor(60.6346, dtype=torch.float64, grad_fn=<MeanBackward0>)\n",
      "Loss:,  tensor(60.6340, dtype=torch.float64, grad_fn=<MeanBackward0>)\n",
      "Loss:,  tensor(59.2707, dtype=torch.float64, grad_fn=<MeanBackward0>)\n",
      "Loss:,  tensor(59.4960, dtype=torch.float64, grad_fn=<MeanBackward0>)\n",
      "Loss:,  tensor(56.6587, dtype=torch.float64, grad_fn=<MeanBackward0>)\n",
      "Loss:,  tensor(56.1780, dtype=torch.float64, grad_fn=<MeanBackward0>)\n",
      "Loss:,  tensor(56.9249, dtype=torch.float64, grad_fn=<MeanBackward0>)\n",
      "Loss:,  tensor(54.5367, dtype=torch.float64, grad_fn=<MeanBackward0>)\n",
      "Loss:,  tensor(54.3748, dtype=torch.float64, grad_fn=<MeanBackward0>)\n",
      "Loss:,  tensor(53.1248, dtype=torch.float64, grad_fn=<MeanBackward0>)\n",
      "Loss:,  tensor(52.9218, dtype=torch.float64, grad_fn=<MeanBackward0>)\n",
      "Loss:,  tensor(52.7642, dtype=torch.float64, grad_fn=<MeanBackward0>)\n",
      "Loss:,  tensor(52.4820, dtype=torch.float64, grad_fn=<MeanBackward0>)\n",
      "Loss:,  tensor(50.1837, dtype=torch.float64, grad_fn=<MeanBackward0>)\n",
      "Loss:,  tensor(49.3890, dtype=torch.float64, grad_fn=<MeanBackward0>)\n",
      "Loss:,  tensor(48.3697, dtype=torch.float64, grad_fn=<MeanBackward0>)\n",
      "Loss:,  tensor(49.2303, dtype=torch.float64, grad_fn=<MeanBackward0>)\n",
      "Loss:,  tensor(46.3956, dtype=torch.float64, grad_fn=<MeanBackward0>)\n",
      "Loss:,  tensor(46.3041, dtype=torch.float64, grad_fn=<MeanBackward0>)\n",
      "Loss:,  tensor(46.9012, dtype=torch.float64, grad_fn=<MeanBackward0>)\n",
      "Loss:,  tensor(45.4742, dtype=torch.float64, grad_fn=<MeanBackward0>)\n",
      "Loss:,  tensor(44.6450, dtype=torch.float64, grad_fn=<MeanBackward0>)\n",
      "Loss:,  tensor(44.5027, dtype=torch.float64, grad_fn=<MeanBackward0>)\n",
      "Loss:,  tensor(43.8001, dtype=torch.float64, grad_fn=<MeanBackward0>)\n",
      "Loss:,  tensor(42.9727, dtype=torch.float64, grad_fn=<MeanBackward0>)\n",
      "Loss:,  tensor(41.4249, dtype=torch.float64, grad_fn=<MeanBackward0>)\n",
      "Loss:,  tensor(42.3024, dtype=torch.float64, grad_fn=<MeanBackward0>)\n",
      "Loss:,  tensor(41.0824, dtype=torch.float64, grad_fn=<MeanBackward0>)\n",
      "Loss:,  tensor(41.0902, dtype=torch.float64, grad_fn=<MeanBackward0>)\n",
      "Loss:,  tensor(41.3182, dtype=torch.float64, grad_fn=<MeanBackward0>)\n",
      "Loss:,  tensor(39.8140, dtype=torch.float64, grad_fn=<MeanBackward0>)\n",
      "Loss:,  tensor(38.5424, dtype=torch.float64, grad_fn=<MeanBackward0>)\n",
      "Loss:,  "
     ]
    },
    {
     "name": "stderr",
     "output_type": "stream",
     "text": [
      " 47%|████▋     | 931/2000 [00:00<00:00, 1545.85it/s]"
     ]
    },
    {
     "name": "stdout",
     "output_type": "stream",
     "text": [
      "tensor(39.0948, dtype=torch.float64, grad_fn=<MeanBackward0>)\n",
      "Loss:,  tensor(39.0199, dtype=torch.float64, grad_fn=<MeanBackward0>)\n",
      "Loss:,  tensor(37.6536, dtype=torch.float64, grad_fn=<MeanBackward0>)\n",
      "Loss:,  tensor(37.4278, dtype=torch.float64, grad_fn=<MeanBackward0>)\n",
      "Loss:,  tensor(37.1104, dtype=torch.float64, grad_fn=<MeanBackward0>)\n",
      "Loss:,  tensor(35.6912, dtype=torch.float64, grad_fn=<MeanBackward0>)\n",
      "Loss:,  tensor(36.2532, dtype=torch.float64, grad_fn=<MeanBackward0>)\n",
      "Loss:,  tensor(35.1485, dtype=torch.float64, grad_fn=<MeanBackward0>)\n",
      "Loss:,  tensor(35.1881, dtype=torch.float64, grad_fn=<MeanBackward0>)\n",
      "Loss:,  tensor(35.2001, dtype=torch.float64, grad_fn=<MeanBackward0>)\n",
      "Loss:,  tensor(34.0049, dtype=torch.float64, grad_fn=<MeanBackward0>)\n",
      "Loss:,  tensor(34.1764, dtype=torch.float64, grad_fn=<MeanBackward0>)\n",
      "Loss:,  tensor(33.8522, dtype=torch.float64, grad_fn=<MeanBackward0>)\n",
      "Loss:,  tensor(33.0371, dtype=torch.float64, grad_fn=<MeanBackward0>)\n",
      "Loss:,  tensor(32.7834, dtype=torch.float64, grad_fn=<MeanBackward0>)\n",
      "Loss:,  tensor(33.6318, dtype=torch.float64, grad_fn=<MeanBackward0>)\n",
      "Loss:,  tensor(31.8912, dtype=torch.float64, grad_fn=<MeanBackward0>)\n",
      "Loss:,  tensor(31.7343, dtype=torch.float64, grad_fn=<MeanBackward0>)\n",
      "Loss:,  tensor(30.6002, dtype=torch.float64, grad_fn=<MeanBackward0>)\n",
      "Loss:,  tensor(31.0782, dtype=torch.float64, grad_fn=<MeanBackward0>)\n",
      "Loss:,  tensor(30.3004, dtype=torch.float64, grad_fn=<MeanBackward0>)\n",
      "Loss:,  tensor(29.8855, dtype=torch.float64, grad_fn=<MeanBackward0>)\n",
      "Loss:,  tensor(29.3649, dtype=torch.float64, grad_fn=<MeanBackward0>)\n",
      "Loss:,  tensor(29.0886, dtype=torch.float64, grad_fn=<MeanBackward0>)\n",
      "Loss:,  tensor(29.9358, dtype=torch.float64, grad_fn=<MeanBackward0>)\n",
      "Loss:,  tensor(28.2762, dtype=torch.float64, grad_fn=<MeanBackward0>)\n",
      "Loss:,  tensor(28.6804, dtype=torch.float64, grad_fn=<MeanBackward0>)\n",
      "Loss:,  tensor(27.0840, dtype=torch.float64, grad_fn=<MeanBackward0>)\n",
      "Loss:,  tensor(28.1916, dtype=torch.float64, grad_fn=<MeanBackward0>)\n",
      "Loss:,  tensor(27.4850, dtype=torch.float64, grad_fn=<MeanBackward0>)\n",
      "Loss:,  tensor(26.5068, dtype=torch.float64, grad_fn=<MeanBackward0>)\n",
      "Loss:,  tensor(26.9666, dtype=torch.float64, grad_fn=<MeanBackward0>)\n",
      "Loss:,  tensor(26.1614, dtype=torch.float64, grad_fn=<MeanBackward0>)\n",
      "Loss:,  tensor(26.1135, dtype=torch.float64, grad_fn=<MeanBackward0>)\n",
      "Loss:,  tensor(25.9275, dtype=torch.float64, grad_fn=<MeanBackward0>)\n",
      "Loss:,  tensor(25.5497, dtype=torch.float64, grad_fn=<MeanBackward0>)\n",
      "Loss:,  tensor(25.3956, dtype=torch.float64, grad_fn=<MeanBackward0>)\n",
      "Loss:,  tensor(25.8464, dtype=torch.float64, grad_fn=<MeanBackward0>)\n",
      "Loss:,  tensor(24.6360, dtype=torch.float64, grad_fn=<MeanBackward0>)\n",
      "Loss:,  tensor(24.4739, dtype=torch.float64, grad_fn=<MeanBackward0>)\n",
      "Loss:,  tensor(24.9524, dtype=torch.float64, grad_fn=<MeanBackward0>)\n",
      "Loss:,  tensor(24.1153, dtype=torch.float64, grad_fn=<MeanBackward0>)\n",
      "Loss:,  tensor(23.4120, dtype=torch.float64, grad_fn=<MeanBackward0>)\n",
      "Loss:,  tensor(23.8542, dtype=torch.float64, grad_fn=<MeanBackward0>)\n",
      "Loss:,  tensor(23.1794, dtype=torch.float64, grad_fn=<MeanBackward0>)\n",
      "Loss:,  tensor(23.7563, dtype=torch.float64, grad_fn=<MeanBackward0>)\n",
      "Loss:,  tensor(23.1999, dtype=torch.float64, grad_fn=<MeanBackward0>)\n",
      "Loss:,  tensor(22.4767, dtype=torch.float64, grad_fn=<MeanBackward0>)\n",
      "Loss:,  tensor(22.2327, dtype=torch.float64, grad_fn=<MeanBackward0>)\n",
      "Loss:,  tensor(21.4038, dtype=torch.float64, grad_fn=<MeanBackward0>)\n",
      "Loss:,  tensor(22.0195, dtype=torch.float64, grad_fn=<MeanBackward0>)\n",
      "Loss:,  tensor(21.3990, dtype=torch.float64, grad_fn=<MeanBackward0>)\n",
      "Loss:,  tensor(21.4884, dtype=torch.float64, grad_fn=<MeanBackward0>)\n",
      "Loss:,  tensor(21.4777, dtype=torch.float64, grad_fn=<MeanBackward0>)\n",
      "Loss:,  tensor(20.6696, dtype=torch.float64, grad_fn=<MeanBackward0>)\n",
      "Loss:,  tensor(20.8113, dtype=torch.float64, grad_fn=<MeanBackward0>)\n",
      "Loss:,  tensor(20.6733, dtype=torch.float64, grad_fn=<MeanBackward0>)\n",
      "Loss:,  tensor(20.8831, dtype=torch.float64, grad_fn=<MeanBackward0>)\n",
      "Loss:,  tensor(20.1049, dtype=torch.float64, grad_fn=<MeanBackward0>)\n",
      "Loss:,  tensor(19.6478, dtype=torch.float64, grad_fn=<MeanBackward0>)\n",
      "Loss:,  tensor(20.0703, dtype=torch.float64, grad_fn=<MeanBackward0>)\n",
      "Loss:,  tensor(19.3914, dtype=torch.float64, grad_fn=<MeanBackward0>)\n",
      "Loss:,  tensor(19.6590, dtype=torch.float64, grad_fn=<MeanBackward0>)\n",
      "Loss:,  tensor(18.9169, dtype=torch.float64, grad_fn=<MeanBackward0>)\n",
      "Loss:,  tensor(19.7711, dtype=torch.float64, grad_fn=<MeanBackward0>)\n",
      "Loss:,  tensor(19.4474, dtype=torch.float64, grad_fn=<MeanBackward0>)\n"
     ]
    },
    {
     "name": "stderr",
     "output_type": "stream",
     "text": [
      " 63%|██████▎   | 1252/2000 [00:00<00:00, 1573.16it/s]"
     ]
    },
    {
     "name": "stdout",
     "output_type": "stream",
     "text": [
      "Loss:,  tensor(19.2743, dtype=torch.float64, grad_fn=<MeanBackward0>)\n",
      "Loss:,  tensor(18.1655, dtype=torch.float64, grad_fn=<MeanBackward0>)\n",
      "Loss:,  tensor(19.2589, dtype=torch.float64, grad_fn=<MeanBackward0>)\n",
      "Loss:,  tensor(18.0061, dtype=torch.float64, grad_fn=<MeanBackward0>)\n",
      "Loss:,  tensor(19.1551, dtype=torch.float64, grad_fn=<MeanBackward0>)\n",
      "Loss:,  tensor(17.7362, dtype=torch.float64, grad_fn=<MeanBackward0>)\n",
      "Loss:,  tensor(18.5482, dtype=torch.float64, grad_fn=<MeanBackward0>)\n",
      "Loss:,  tensor(17.2855, dtype=torch.float64, grad_fn=<MeanBackward0>)\n",
      "Loss:,  tensor(17.4339, dtype=torch.float64, grad_fn=<MeanBackward0>)\n",
      "Loss:,  tensor(17.4453, dtype=torch.float64, grad_fn=<MeanBackward0>)\n",
      "Loss:,  tensor(17.1597, dtype=torch.float64, grad_fn=<MeanBackward0>)\n",
      "Loss:,  tensor(16.2098, dtype=torch.float64, grad_fn=<MeanBackward0>)\n",
      "Loss:,  tensor(17.2341, dtype=torch.float64, grad_fn=<MeanBackward0>)\n",
      "Loss:,  tensor(16.4041, dtype=torch.float64, grad_fn=<MeanBackward0>)\n",
      "Loss:,  tensor(15.8304, dtype=torch.float64, grad_fn=<MeanBackward0>)\n",
      "Loss:,  tensor(16.2811, dtype=torch.float64, grad_fn=<MeanBackward0>)\n",
      "Loss:,  tensor(16.2638, dtype=torch.float64, grad_fn=<MeanBackward0>)\n",
      "Loss:,  tensor(15.6218, dtype=torch.float64, grad_fn=<MeanBackward0>)\n",
      "Loss:,  tensor(15.8619, dtype=torch.float64, grad_fn=<MeanBackward0>)\n",
      "Loss:,  tensor(15.3465, dtype=torch.float64, grad_fn=<MeanBackward0>)\n",
      "Loss:,  tensor(15.1608, dtype=torch.float64, grad_fn=<MeanBackward0>)\n",
      "Loss:,  tensor(15.1346, dtype=torch.float64, grad_fn=<MeanBackward0>)\n",
      "Loss:,  tensor(15.4256, dtype=torch.float64, grad_fn=<MeanBackward0>)\n",
      "Loss:,  tensor(15.2122, dtype=torch.float64, grad_fn=<MeanBackward0>)\n",
      "Loss:,  tensor(15.5586, dtype=torch.float64, grad_fn=<MeanBackward0>)\n",
      "Loss:,  tensor(14.5906, dtype=torch.float64, grad_fn=<MeanBackward0>)\n",
      "Loss:,  tensor(14.7187, dtype=torch.float64, grad_fn=<MeanBackward0>)\n",
      "Loss:,  tensor(15.3882, dtype=torch.float64, grad_fn=<MeanBackward0>)\n",
      "Loss:,  tensor(14.3116, dtype=torch.float64, grad_fn=<MeanBackward0>)\n",
      "Loss:,  tensor(15.3013, dtype=torch.float64, grad_fn=<MeanBackward0>)\n",
      "Loss:,  tensor(13.8719, dtype=torch.float64, grad_fn=<MeanBackward0>)\n",
      "Loss:,  tensor(14.6257, dtype=torch.float64, grad_fn=<MeanBackward0>)\n",
      "Loss:,  tensor(13.5281, dtype=torch.float64, grad_fn=<MeanBackward0>)\n",
      "Loss:,  tensor(14.0866, dtype=torch.float64, grad_fn=<MeanBackward0>)\n",
      "Loss:,  tensor(14.3358, dtype=torch.float64, grad_fn=<MeanBackward0>)\n",
      "Loss:,  tensor(13.6549, dtype=torch.float64, grad_fn=<MeanBackward0>)\n",
      "Loss:,  tensor(13.8985, dtype=torch.float64, grad_fn=<MeanBackward0>)\n",
      "Loss:,  tensor(14.2103, dtype=torch.float64, grad_fn=<MeanBackward0>)\n",
      "Loss:,  tensor(13.9372, dtype=torch.float64, grad_fn=<MeanBackward0>)\n",
      "Loss:,  tensor(13.2418, dtype=torch.float64, grad_fn=<MeanBackward0>)\n",
      "Loss:,  tensor(12.8281, dtype=torch.float64, grad_fn=<MeanBackward0>)\n",
      "Loss:,  tensor(13.0422, dtype=torch.float64, grad_fn=<MeanBackward0>)\n",
      "Loss:,  tensor(12.9525, dtype=torch.float64, grad_fn=<MeanBackward0>)\n",
      "Loss:,  tensor(13.2271, dtype=torch.float64, grad_fn=<MeanBackward0>)\n",
      "Loss:,  tensor(12.7688, dtype=torch.float64, grad_fn=<MeanBackward0>)\n",
      "Loss:,  tensor(12.0845, dtype=torch.float64, grad_fn=<MeanBackward0>)\n",
      "Loss:,  tensor(12.7055, dtype=torch.float64, grad_fn=<MeanBackward0>)\n",
      "Loss:,  tensor(13.3649, dtype=torch.float64, grad_fn=<MeanBackward0>)\n",
      "Loss:,  tensor(12.7331, dtype=torch.float64, grad_fn=<MeanBackward0>)\n",
      "Loss:,  tensor(12.0965, dtype=torch.float64, grad_fn=<MeanBackward0>)\n",
      "Loss:,  tensor(13.0509, dtype=torch.float64, grad_fn=<MeanBackward0>)\n",
      "Loss:,  tensor(12.6683, dtype=torch.float64, grad_fn=<MeanBackward0>)\n",
      "Loss:,  tensor(12.3494, dtype=torch.float64, grad_fn=<MeanBackward0>)\n",
      "Loss:,  tensor(12.1098, dtype=torch.float64, grad_fn=<MeanBackward0>)\n",
      "Loss:,  tensor(12.5707, dtype=torch.float64, grad_fn=<MeanBackward0>)\n",
      "Loss:,  tensor(11.3977, dtype=torch.float64, grad_fn=<MeanBackward0>)\n",
      "Loss:,  tensor(11.6104, dtype=torch.float64, grad_fn=<MeanBackward0>)\n",
      "Loss:,  tensor(11.1832, dtype=torch.float64, grad_fn=<MeanBackward0>)\n",
      "Loss:,  tensor(11.5073, dtype=torch.float64, grad_fn=<MeanBackward0>)\n",
      "Loss:,  tensor(12.0835, dtype=torch.float64, grad_fn=<MeanBackward0>)\n",
      "Loss:,  tensor(11.6711, dtype=torch.float64, grad_fn=<MeanBackward0>)\n",
      "Loss:,  tensor(11.2386, dtype=torch.float64, grad_fn=<MeanBackward0>)\n",
      "Loss:,  tensor(11.8663, dtype=torch.float64, grad_fn=<MeanBackward0>)\n",
      "Loss:,  tensor(11.0890, dtype=torch.float64, grad_fn=<MeanBackward0>)\n",
      "Loss:,  "
     ]
    },
    {
     "name": "stderr",
     "output_type": "stream",
     "text": [
      "\r",
      " 70%|███████   | 1403/2000 [00:00<00:00, 1527.68it/s]"
     ]
    },
    {
     "name": "stdout",
     "output_type": "stream",
     "text": [
      "tensor(11.5639, dtype=torch.float64, grad_fn=<MeanBackward0>)\n",
      "Loss:,  tensor(10.9382, dtype=torch.float64, grad_fn=<MeanBackward0>)\n",
      "Loss:,  tensor(11.4033, dtype=torch.float64, grad_fn=<MeanBackward0>)\n",
      "Loss:,  tensor(10.5829, dtype=torch.float64, grad_fn=<MeanBackward0>)\n",
      "Loss:,  tensor(11.3020, dtype=torch.float64, grad_fn=<MeanBackward0>)\n",
      "Loss:,  tensor(11.2799, dtype=torch.float64, grad_fn=<MeanBackward0>)\n",
      "Loss:,  tensor(10.6343, dtype=torch.float64, grad_fn=<MeanBackward0>)\n",
      "Loss:,  tensor(10.7718, dtype=torch.float64, grad_fn=<MeanBackward0>)\n",
      "Loss:,  tensor(10.8032, dtype=torch.float64, grad_fn=<MeanBackward0>)\n",
      "Loss:,  tensor(10.1801, dtype=torch.float64, grad_fn=<MeanBackward0>)\n",
      "Loss:,  tensor(9.8937, dtype=torch.float64, grad_fn=<MeanBackward0>)\n",
      "Loss:,  tensor(10.0325, dtype=torch.float64, grad_fn=<MeanBackward0>)\n",
      "Loss:,  tensor(10.5279, dtype=torch.float64, grad_fn=<MeanBackward0>)\n",
      "Loss:,  tensor(10.3543, dtype=torch.float64, grad_fn=<MeanBackward0>)\n",
      "Loss:,  tensor(9.6931, dtype=torch.float64, grad_fn=<MeanBackward0>)\n",
      "Loss:,  tensor(10.2504, dtype=torch.float64, grad_fn=<MeanBackward0>)\n",
      "Loss:,  tensor(10.0962, dtype=torch.float64, grad_fn=<MeanBackward0>)\n",
      "Loss:,  tensor(9.6304, dtype=torch.float64, grad_fn=<MeanBackward0>)\n",
      "Loss:,  tensor(9.2539, dtype=torch.float64, grad_fn=<MeanBackward0>)\n",
      "Loss:,  tensor(8.9786, dtype=torch.float64, grad_fn=<MeanBackward0>)\n",
      "Loss:,  tensor(9.7945, dtype=torch.float64, grad_fn=<MeanBackward0>)\n",
      "Loss:,  tensor(9.3311, dtype=torch.float64, grad_fn=<MeanBackward0>)\n",
      "Loss:,  tensor(9.1666, dtype=torch.float64, grad_fn=<MeanBackward0>)\n",
      "Loss:,  tensor(10.0305, dtype=torch.float64, grad_fn=<MeanBackward0>)\n",
      "Loss:,  tensor(8.8613, dtype=torch.float64, grad_fn=<MeanBackward0>)\n",
      "Loss:,  tensor(9.7085, dtype=torch.float64, grad_fn=<MeanBackward0>)\n",
      "Loss:,  tensor(8.8664, dtype=torch.float64, grad_fn=<MeanBackward0>)\n",
      "Loss:,  tensor(9.1988, dtype=torch.float64, grad_fn=<MeanBackward0>)\n",
      "Loss:,  tensor(9.1793, dtype=torch.float64, grad_fn=<MeanBackward0>)\n",
      "Loss:,  tensor(8.5152, dtype=torch.float64, grad_fn=<MeanBackward0>)\n",
      "Loss:,  tensor(9.0460, dtype=torch.float64, grad_fn=<MeanBackward0>)\n",
      "Loss:,  tensor(8.8422, dtype=torch.float64, grad_fn=<MeanBackward0>)\n",
      "Loss:,  tensor(8.8685, dtype=torch.float64, grad_fn=<MeanBackward0>)\n",
      "Loss:,  tensor(9.5510, dtype=torch.float64, grad_fn=<MeanBackward0>)\n",
      "Loss:,  tensor(8.1038, dtype=torch.float64, grad_fn=<MeanBackward0>)\n",
      "Loss:,  tensor(8.8153, dtype=torch.float64, grad_fn=<MeanBackward0>)\n",
      "Loss:,  tensor(8.3547, dtype=torch.float64, grad_fn=<MeanBackward0>)\n",
      "Loss:,  tensor(8.7252, dtype=torch.float64, grad_fn=<MeanBackward0>)\n",
      "Loss:,  tensor(8.4490, dtype=torch.float64, grad_fn=<MeanBackward0>)\n",
      "Loss:,  tensor(8.4224, dtype=torch.float64, grad_fn=<MeanBackward0>)\n",
      "Loss:,  tensor(8.0786, dtype=torch.float64, grad_fn=<MeanBackward0>)\n",
      "Loss:,  tensor(8.4396, dtype=torch.float64, grad_fn=<MeanBackward0>)\n",
      "Loss:,  tensor(7.4259, dtype=torch.float64, grad_fn=<MeanBackward0>)\n",
      "Loss:,  tensor(8.0817, dtype=torch.float64, grad_fn=<MeanBackward0>)\n",
      "Loss:,  tensor(8.8175, dtype=torch.float64, grad_fn=<MeanBackward0>)\n",
      "Loss:,  tensor(8.1691, dtype=torch.float64, grad_fn=<MeanBackward0>)\n",
      "Loss:,  tensor(8.2987, dtype=torch.float64, grad_fn=<MeanBackward0>)\n",
      "Loss:,  tensor(7.2572, dtype=torch.float64, grad_fn=<MeanBackward0>)\n",
      "Loss:,  tensor(7.9333, dtype=torch.float64, grad_fn=<MeanBackward0>)\n",
      "Loss:,  tensor(8.0118, dtype=torch.float64, grad_fn=<MeanBackward0>)\n",
      "Loss:,  tensor(7.9416, dtype=torch.float64, grad_fn=<MeanBackward0>)\n",
      "Loss:,  tensor(8.0284, dtype=torch.float64, grad_fn=<MeanBackward0>)\n",
      "Loss:,  tensor(7.1737, dtype=torch.float64, grad_fn=<MeanBackward0>)\n",
      "Loss:,  tensor(7.8707, dtype=torch.float64, grad_fn=<MeanBackward0>)\n",
      "Loss:,  tensor(7.4707, dtype=torch.float64, grad_fn=<MeanBackward0>)\n",
      "Loss:,  tensor(7.4155, dtype=torch.float64, grad_fn=<MeanBackward0>)\n",
      "Loss:,  tensor(7.2802, dtype=torch.float64, grad_fn=<MeanBackward0>)\n",
      "Loss:,  tensor(7.2903, dtype=torch.float64, grad_fn=<MeanBackward0>)\n",
      "Loss:,  tensor(7.7074, dtype=torch.float64, grad_fn=<MeanBackward0>)\n"
     ]
    },
    {
     "name": "stderr",
     "output_type": "stream",
     "text": [
      " 85%|████████▍ | 1699/2000 [00:01<00:00, 1464.01it/s]"
     ]
    },
    {
     "name": "stdout",
     "output_type": "stream",
     "text": [
      "Loss:,  tensor(7.1771, dtype=torch.float64, grad_fn=<MeanBackward0>)\n",
      "Loss:,  tensor(7.1287, dtype=torch.float64, grad_fn=<MeanBackward0>)\n",
      "Loss:,  tensor(7.5187, dtype=torch.float64, grad_fn=<MeanBackward0>)\n",
      "Loss:,  tensor(7.2034, dtype=torch.float64, grad_fn=<MeanBackward0>)\n",
      "Loss:,  tensor(7.4244, dtype=torch.float64, grad_fn=<MeanBackward0>)\n",
      "Loss:,  tensor(7.4875, dtype=torch.float64, grad_fn=<MeanBackward0>)\n",
      "Loss:,  tensor(6.4318, dtype=torch.float64, grad_fn=<MeanBackward0>)\n",
      "Loss:,  tensor(7.2759, dtype=torch.float64, grad_fn=<MeanBackward0>)\n",
      "Loss:,  tensor(6.9160, dtype=torch.float64, grad_fn=<MeanBackward0>)\n",
      "Loss:,  tensor(6.9516, dtype=torch.float64, grad_fn=<MeanBackward0>)\n",
      "Loss:,  tensor(6.9917, dtype=torch.float64, grad_fn=<MeanBackward0>)\n",
      "Loss:,  tensor(6.9300, dtype=torch.float64, grad_fn=<MeanBackward0>)\n",
      "Loss:,  tensor(6.7048, dtype=torch.float64, grad_fn=<MeanBackward0>)\n",
      "Loss:,  tensor(6.4135, dtype=torch.float64, grad_fn=<MeanBackward0>)\n",
      "Loss:,  tensor(6.5895, dtype=torch.float64, grad_fn=<MeanBackward0>)\n",
      "Loss:,  tensor(6.7527, dtype=torch.float64, grad_fn=<MeanBackward0>)\n",
      "Loss:,  tensor(6.5346, dtype=torch.float64, grad_fn=<MeanBackward0>)\n",
      "Loss:,  tensor(7.0086, dtype=torch.float64, grad_fn=<MeanBackward0>)\n",
      "Loss:,  tensor(6.5688, dtype=torch.float64, grad_fn=<MeanBackward0>)\n",
      "Loss:,  tensor(6.8140, dtype=torch.float64, grad_fn=<MeanBackward0>)\n",
      "Loss:,  tensor(6.6525, dtype=torch.float64, grad_fn=<MeanBackward0>)\n",
      "Loss:,  tensor(6.3292, dtype=torch.float64, grad_fn=<MeanBackward0>)\n",
      "Loss:,  tensor(6.1534, dtype=torch.float64, grad_fn=<MeanBackward0>)\n",
      "Loss:,  tensor(6.5169, dtype=torch.float64, grad_fn=<MeanBackward0>)\n",
      "Loss:,  tensor(5.9939, dtype=torch.float64, grad_fn=<MeanBackward0>)\n",
      "Loss:,  tensor(6.3080, dtype=torch.float64, grad_fn=<MeanBackward0>)\n",
      "Loss:,  tensor(6.9761, dtype=torch.float64, grad_fn=<MeanBackward0>)\n",
      "Loss:,  tensor(6.0097, dtype=torch.float64, grad_fn=<MeanBackward0>)\n",
      "Loss:,  tensor(5.9942, dtype=torch.float64, grad_fn=<MeanBackward0>)\n",
      "Loss:,  tensor(6.0311, dtype=torch.float64, grad_fn=<MeanBackward0>)\n",
      "Loss:,  tensor(6.2397, dtype=torch.float64, grad_fn=<MeanBackward0>)\n",
      "Loss:,  tensor(6.2124, dtype=torch.float64, grad_fn=<MeanBackward0>)\n",
      "Loss:,  tensor(6.2945, dtype=torch.float64, grad_fn=<MeanBackward0>)\n",
      "Loss:,  tensor(6.0306, dtype=torch.float64, grad_fn=<MeanBackward0>)\n",
      "Loss:,  tensor(5.9392, dtype=torch.float64, grad_fn=<MeanBackward0>)\n",
      "Loss:,  tensor(6.0454, dtype=torch.float64, grad_fn=<MeanBackward0>)\n",
      "Loss:,  tensor(6.1432, dtype=torch.float64, grad_fn=<MeanBackward0>)\n",
      "Loss:,  tensor(5.8488, dtype=torch.float64, grad_fn=<MeanBackward0>)\n",
      "Loss:,  tensor(5.9343, dtype=torch.float64, grad_fn=<MeanBackward0>)\n",
      "Loss:,  tensor(5.5905, dtype=torch.float64, grad_fn=<MeanBackward0>)\n",
      "Loss:,  tensor(5.5891, dtype=torch.float64, grad_fn=<MeanBackward0>)\n",
      "Loss:,  tensor(5.9642, dtype=torch.float64, grad_fn=<MeanBackward0>)\n",
      "Loss:,  tensor(5.9699, dtype=torch.float64, grad_fn=<MeanBackward0>)\n",
      "Loss:,  tensor(5.7501, dtype=torch.float64, grad_fn=<MeanBackward0>)\n",
      "Loss:,  tensor(5.6854, dtype=torch.float64, grad_fn=<MeanBackward0>)\n",
      "Loss:,  tensor(5.4964, dtype=torch.float64, grad_fn=<MeanBackward0>)\n",
      "Loss:,  tensor(5.8669, dtype=torch.float64, grad_fn=<MeanBackward0>)\n",
      "Loss:,  tensor(5.5787, dtype=torch.float64, grad_fn=<MeanBackward0>)\n",
      "Loss:,  tensor(5.3252, dtype=torch.float64, grad_fn=<MeanBackward0>)\n",
      "Loss:,  tensor(5.1575, dtype=torch.float64, grad_fn=<MeanBackward0>)\n",
      "Loss:,  tensor(5.7807, dtype=torch.float64, grad_fn=<MeanBackward0>)\n",
      "Loss:,  tensor(5.5597, dtype=torch.float64, grad_fn=<MeanBackward0>)\n",
      "Loss:,  tensor(5.9369, dtype=torch.float64, grad_fn=<MeanBackward0>)\n",
      "Loss:,  tensor(5.4663, dtype=torch.float64, grad_fn=<MeanBackward0>)\n",
      "Loss:,  tensor(5.1512, dtype=torch.float64, grad_fn=<MeanBackward0>)\n",
      "Loss:,  tensor(5.4572, dtype=torch.float64, grad_fn=<MeanBackward0>)\n",
      "Loss:,  tensor(5.7864, dtype=torch.float64, grad_fn=<MeanBackward0>)\n"
     ]
    },
    {
     "name": "stderr",
     "output_type": "stream",
     "text": [
      "100%|██████████| 2000/2000 [00:01<00:00, 1514.55it/s]"
     ]
    },
    {
     "name": "stdout",
     "output_type": "stream",
     "text": [
      "Loss:,  tensor(5.2843, dtype=torch.float64, grad_fn=<MeanBackward0>)\n",
      "Loss:,  tensor(5.3467, dtype=torch.float64, grad_fn=<MeanBackward0>)\n",
      "Loss:,  tensor(5.6029, dtype=torch.float64, grad_fn=<MeanBackward0>)\n",
      "Loss:,  tensor(4.8361, dtype=torch.float64, grad_fn=<MeanBackward0>)\n",
      "Loss:,  tensor(5.2132, dtype=torch.float64, grad_fn=<MeanBackward0>)\n",
      "Loss:,  tensor(4.9748, dtype=torch.float64, grad_fn=<MeanBackward0>)\n",
      "Loss:,  tensor(5.3637, dtype=torch.float64, grad_fn=<MeanBackward0>)\n",
      "Loss:,  tensor(5.2770, dtype=torch.float64, grad_fn=<MeanBackward0>)\n",
      "Loss:,  tensor(4.8473, dtype=torch.float64, grad_fn=<MeanBackward0>)\n",
      "Loss:,  tensor(5.0640, dtype=torch.float64, grad_fn=<MeanBackward0>)\n",
      "Loss:,  tensor(4.7732, dtype=torch.float64, grad_fn=<MeanBackward0>)\n",
      "Loss:,  tensor(4.7174, dtype=torch.float64, grad_fn=<MeanBackward0>)\n",
      "Loss:,  tensor(5.3424, dtype=torch.float64, grad_fn=<MeanBackward0>)\n",
      "Loss:,  tensor(4.8521, dtype=torch.float64, grad_fn=<MeanBackward0>)\n",
      "Loss:,  tensor(4.9379, dtype=torch.float64, grad_fn=<MeanBackward0>)\n",
      "Loss:,  tensor(4.5572, dtype=torch.float64, grad_fn=<MeanBackward0>)\n",
      "Loss:,  tensor(4.8055, dtype=torch.float64, grad_fn=<MeanBackward0>)\n",
      "Loss:,  tensor(4.9362, dtype=torch.float64, grad_fn=<MeanBackward0>)\n",
      "Loss:,  tensor(4.6175, dtype=torch.float64, grad_fn=<MeanBackward0>)\n",
      "Loss:,  tensor(4.6078, dtype=torch.float64, grad_fn=<MeanBackward0>)\n",
      "Loss:,  tensor(4.5931, dtype=torch.float64, grad_fn=<MeanBackward0>)\n",
      "Loss:,  tensor(4.7203, dtype=torch.float64, grad_fn=<MeanBackward0>)\n",
      "Loss:,  tensor(4.3825, dtype=torch.float64, grad_fn=<MeanBackward0>)\n",
      "Loss:,  tensor(4.7223, dtype=torch.float64, grad_fn=<MeanBackward0>)\n",
      "Loss:,  tensor(4.5132, dtype=torch.float64, grad_fn=<MeanBackward0>)\n",
      "Loss:,  tensor(4.7942, dtype=torch.float64, grad_fn=<MeanBackward0>)\n",
      "Loss:,  tensor(4.8827, dtype=torch.float64, grad_fn=<MeanBackward0>)\n",
      "Loss:,  tensor(4.2895, dtype=torch.float64, grad_fn=<MeanBackward0>)\n",
      "Loss:,  tensor(4.5339, dtype=torch.float64, grad_fn=<MeanBackward0>)\n",
      "Loss:,  tensor(4.5669, dtype=torch.float64, grad_fn=<MeanBackward0>)\n",
      "Loss:,  tensor(4.4198, dtype=torch.float64, grad_fn=<MeanBackward0>)\n",
      "Loss:,  tensor(4.2303, dtype=torch.float64, grad_fn=<MeanBackward0>)\n"
     ]
    },
    {
     "name": "stderr",
     "output_type": "stream",
     "text": [
      "\n"
     ]
    }
   ],
   "source": [
    "num_epochs = 2000\n",
    "for epoch in tqdm(range(num_epochs)):\n",
    "    index = np.random.permutation(num_samples).reshape((batch_size, deg_freedom))\n",
    "    \n",
    "    chi_stat = ((pred_mean[index] - gt_observations[index])**2/pred_var[index]).sum(axis=1)\n",
    "#     chi_stat = ((pred_mean[index] - gt_observations[index])**2/pred_var).sum(axis=1)\n",
    "    # print(chi_stat.shape)\n",
    "\n",
    "    batch_loss = ((chi_stat- deg_freedom)**2/(2*deg_freedom)).mean()\n",
    "#     batch_loss = ((chi_stat- deg_freedom)**2/(2*deg_freedom)).sum()\n",
    "    # print(batch_loss)\n",
    "\n",
    "    optim.zero_grad()\n",
    "    batch_loss.backward()\n",
    "    optim.step()\n",
    "    \n",
    "    if epoch%5==0:\n",
    "        print(\"Loss:, \", batch_loss)\n"
   ]
  },
  {
   "cell_type": "code",
   "execution_count": 23,
   "metadata": {},
   "outputs": [
    {
     "name": "stdout",
     "output_type": "stream",
     "text": [
      "Absolute Mean Error:  0.4296574721733183\n",
      "Absolute Variance Error:  1.9434211\n",
      "Calibration Error:  5.659149291990534\n",
      "tensor([1.0035, 2.7691, 1.6696,  ..., 1.6190, 3.7187, 2.6810],\n",
      "       requires_grad=True)\n"
     ]
    }
   ],
   "source": [
    "print(\"Absolute Mean Error: \",(pred_mean.detach().numpy()-gt_mu).mean())\n",
    "print(\"Absolute Variance Error: \", (pred_var.detach().numpy()-gt_var).mean())\n",
    "print(\"Calibration Error: \", torch.abs((pred_mean-gt_observations)**2-pred_var).detach().numpy().mean())\n",
    "print(pred_var)"
   ]
  },
  {
   "cell_type": "code",
   "execution_count": 24,
   "metadata": {},
   "outputs": [
    {
     "name": "stdout",
     "output_type": "stream",
     "text": [
      "Mean:  0.1893334674902497 Var:  1.2883871296838985\n"
     ]
    },
    {
     "data": {
      "image/png": "[encoded data removed]",
      "text/plain": [
       "<Figure size 360x360 with 1 Axes>"
      ]
     },
     "metadata": {
      "needs_background": "light"
     },
     "output_type": "display_data"
    }
   ],
   "source": [
    "normalized_x = ((pred_mean-gt_observations)/torch.sqrt(pred_var)).detach().numpy()\n",
    "print(\"Mean: \", normalized_x.mean(), \"Var: \", normalized_x.var())\n",
    "sns.displot(normalized_x, kind=\"kde\")\n",
    "plt.show()\n"
   ]
  },
  {
   "cell_type": "markdown",
   "metadata": {},
   "source": [
    "We see that the variable $Z = \\frac{x-\\mu}{\\sigma}$ really follows $\\mathcal N(0.23,1.27)$. Which is very close to $\\mathcal N(0,1)$, where this minor difference can be due to approximation of $\\chi_K^2 \\approx \\mathcal N(K, 2K)$\n",
    "\n",
    "## Which shows that using chi-sqaure loss works."
   ]
  },
  {
   "cell_type": "markdown",
   "metadata": {},
   "source": [
    "### -------------------------------------------------xxxxxxxxxxxxxx---------------------------------------------------------\n"
   ]
  },
  {
   "cell_type": "markdown",
   "metadata": {},
   "source": [
    "## Experiment 2: Different variance, Different means \n",
    "\n",
    "Here we have different ground truth $\\sigma_i \\sim U(1,2)$ and different mean $\\mu_i \\sim \\mathcal N(0,25)$. Then we sample $X_i$ once from each of these $N$ normal distributions. This $X_i$ is our observations and our model will have access to it during training and not the ground truth means and variance. \n",
    "\n",
    "Our aim is to estimate each to these means and variance as $\\hat\\mu_i, \\hat\\sigma_i^2$\n"
   ]
  },
  {
   "cell_type": "markdown",
   "metadata": {},
   "source": [
    "**Generating Training Data**"
   ]
  },
  {
   "cell_type": "code",
   "execution_count": 250,
   "metadata": {},
   "outputs": [
    {
     "name": "stdout",
     "output_type": "stream",
     "text": [
      "Mean:  [ 3.64676011  5.18606202 -6.3598712  ... -0.53714615 -6.3228859\n",
      "  0.59822228]\n",
      "Variance: [2.6794792  3.25666612 3.93005144 ... 3.85655768 2.51291954 3.0096082 ]\n"
     ]
    }
   ],
   "source": [
    "# N = 5000\n",
    "num_samples = 5000\n",
    "\n",
    "# \\sigma_i^2 = 1\n",
    "gt_var = np.random.uniform(1,2, num_samples)**2\n",
    "\n",
    "# \\mu_i ~ N(0, 5^2 = 25)\n",
    "gt_mu = np.random.normal(0,5, num_samples)\n",
    "\n",
    "print(\"Mean: \", gt_mu)\n",
    "print(\"Variance:\", gt_var)"
   ]
  },
  {
   "cell_type": "code",
   "execution_count": 251,
   "metadata": {},
   "outputs": [
    {
     "name": "stdout",
     "output_type": "stream",
     "text": [
      "Training data size: 5000\n"
     ]
    }
   ],
   "source": [
    "gt_observations = np.random.normal(gt_mu, gt_var)\n",
    "gt_observations = torch.tensor(gt_observations)\n",
    "print(\"Training data size:\", len(gt_observations))"
   ]
  },
  {
   "cell_type": "code",
   "execution_count": 253,
   "metadata": {},
   "outputs": [
    {
     "name": "stdout",
     "output_type": "stream",
     "text": [
      "tensor(0.0972, dtype=torch.float64) tensor(31.8513, dtype=torch.float64)\n"
     ]
    }
   ],
   "source": [
    "print(gt_observations.mean(), gt_observations.var())\n"
   ]
  },
  {
   "cell_type": "markdown",
   "metadata": {},
   "source": [
    "**Training Procedure**"
   ]
  },
  {
   "cell_type": "code",
   "execution_count": 254,
   "metadata": {},
   "outputs": [
    {
     "name": "stdout",
     "output_type": "stream",
     "text": [
      "tensor([1., 1., 1.,  ..., 1., 1., 1.], requires_grad=True) tensor([1., 1., 1.,  ..., 1., 1., 1.], requires_grad=True)\n"
     ]
    }
   ],
   "source": [
    "pred_mean = torch.ones(num_samples, requires_grad= True)\n",
    "pred_var = torch.ones(num_samples, requires_grad = True)\n",
    "# pred_var = torch.ones(1, requires_grad = True)\n",
    "\n",
    "print(pred_mean, pred_var)"
   ]
  },
  {
   "cell_type": "code",
   "execution_count": 255,
   "metadata": {},
   "outputs": [],
   "source": [
    "learning_rate = 5e-2\n",
    "optim = torch.optim.SGD([pred_mean, pred_var], lr = learning_rate)\n",
    "\n",
    "# K = 50\n",
    "deg_freedom = 50\n",
    "\n",
    "batch_size = int(num_samples/deg_freedom)"
   ]
  },
  {
   "cell_type": "code",
   "execution_count": 256,
   "metadata": {},
   "outputs": [
    {
     "name": "stderr",
     "output_type": "stream",
     "text": [
      " 14%|█▍        | 276/2000 [00:00<00:01, 1292.57it/s]"
     ]
    },
    {
     "name": "stdout",
     "output_type": "stream",
     "text": [
      "Loss:,  tensor(26161.5974, dtype=torch.float64, grad_fn=<MeanBackward0>)\n",
      "Loss:,  tensor(3044.5573, dtype=torch.float64, grad_fn=<MeanBackward0>)\n",
      "Loss:,  tensor(2244.0592, dtype=torch.float64, grad_fn=<MeanBackward0>)\n",
      "Loss:,  tensor(1823.8228, dtype=torch.float64, grad_fn=<MeanBackward0>)\n",
      "Loss:,  tensor(1546.1671, dtype=torch.float64, grad_fn=<MeanBackward0>)\n",
      "Loss:,  tensor(1333.2079, dtype=torch.float64, grad_fn=<MeanBackward0>)\n",
      "Loss:,  tensor(1176.4555, dtype=torch.float64, grad_fn=<MeanBackward0>)\n",
      "Loss:,  tensor(1058.9339, dtype=torch.float64, grad_fn=<MeanBackward0>)\n",
      "Loss:,  tensor(960.9378, dtype=torch.float64, grad_fn=<MeanBackward0>)\n",
      "Loss:,  tensor(872.0375, dtype=torch.float64, grad_fn=<MeanBackward0>)\n",
      "Loss:,  tensor(811.7616, dtype=torch.float64, grad_fn=<MeanBackward0>)\n",
      "Loss:,  tensor(745.6656, dtype=torch.float64, grad_fn=<MeanBackward0>)\n",
      "Loss:,  tensor(694.6853, dtype=torch.float64, grad_fn=<MeanBackward0>)\n",
      "Loss:,  tensor(647.3277, dtype=torch.float64, grad_fn=<MeanBackward0>)\n",
      "Loss:,  tensor(613.7981, dtype=torch.float64, grad_fn=<MeanBackward0>)\n",
      "Loss:,  tensor(574.9563, dtype=torch.float64, grad_fn=<MeanBackward0>)\n",
      "Loss:,  tensor(544.4575, dtype=torch.float64, grad_fn=<MeanBackward0>)\n",
      "Loss:,  tensor(514.5755, dtype=torch.float64, grad_fn=<MeanBackward0>)\n",
      "Loss:,  tensor(494.3322, dtype=torch.float64, grad_fn=<MeanBackward0>)\n",
      "Loss:,  tensor(464.2089, dtype=torch.float64, grad_fn=<MeanBackward0>)\n",
      "Loss:,  tensor(441.7461, dtype=torch.float64, grad_fn=<MeanBackward0>)\n",
      "Loss:,  tensor(422.5378, dtype=torch.float64, grad_fn=<MeanBackward0>)\n",
      "Loss:,  tensor(402.6951, dtype=torch.float64, grad_fn=<MeanBackward0>)\n",
      "Loss:,  tensor(385.8282, dtype=torch.float64, grad_fn=<MeanBackward0>)\n",
      "Loss:,  tensor(369.4597, dtype=torch.float64, grad_fn=<MeanBackward0>)\n",
      "Loss:,  tensor(360.6979, dtype=torch.float64, grad_fn=<MeanBackward0>)\n",
      "Loss:,  tensor(346.7971, dtype=torch.float64, grad_fn=<MeanBackward0>)\n",
      "Loss:,  tensor(328.3657, dtype=torch.float64, grad_fn=<MeanBackward0>)\n",
      "Loss:,  tensor(317.8461, dtype=torch.float64, grad_fn=<MeanBackward0>)\n",
      "Loss:,  tensor(304.7750, dtype=torch.float64, grad_fn=<MeanBackward0>)\n",
      "Loss:,  tensor(298.2483, dtype=torch.float64, grad_fn=<MeanBackward0>)\n",
      "Loss:,  tensor(286.6636, dtype=torch.float64, grad_fn=<MeanBackward0>)\n",
      "Loss:,  tensor(275.2508, dtype=torch.float64, grad_fn=<MeanBackward0>)\n",
      "Loss:,  tensor(267.3341, dtype=torch.float64, grad_fn=<MeanBackward0>)\n",
      "Loss:,  tensor(257.8536, dtype=torch.float64, grad_fn=<MeanBackward0>)\n",
      "Loss:,  tensor(250.4224, dtype=torch.float64, grad_fn=<MeanBackward0>)\n",
      "Loss:,  tensor(240.2513, dtype=torch.float64, grad_fn=<MeanBackward0>)\n",
      "Loss:,  tensor(235.4761, dtype=torch.float64, grad_fn=<MeanBackward0>)\n",
      "Loss:,  tensor(228.5816, dtype=torch.float64, grad_fn=<MeanBackward0>)\n",
      "Loss:,  tensor(220.3181, dtype=torch.float64, grad_fn=<MeanBackward0>)\n",
      "Loss:,  tensor(216.8236, dtype=torch.float64, grad_fn=<MeanBackward0>)\n",
      "Loss:,  tensor(207.8653, dtype=torch.float64, grad_fn=<MeanBackward0>)\n",
      "Loss:,  tensor(202.9138, dtype=torch.float64, grad_fn=<MeanBackward0>)\n",
      "Loss:,  tensor(198.4759, dtype=torch.float64, grad_fn=<MeanBackward0>)\n",
      "Loss:,  tensor(193.2160, dtype=torch.float64, grad_fn=<MeanBackward0>)\n",
      "Loss:,  tensor(188.0629, dtype=torch.float64, grad_fn=<MeanBackward0>)\n",
      "Loss:,  tensor(184.0272, dtype=torch.float64, grad_fn=<MeanBackward0>)\n",
      "Loss:,  tensor(179.8332, dtype=torch.float64, grad_fn=<MeanBackward0>)\n",
      "Loss:,  tensor(172.2999, dtype=torch.float64, grad_fn=<MeanBackward0>)\n",
      "Loss:,  tensor(171.1923, dtype=torch.float64, grad_fn=<MeanBackward0>)\n",
      "Loss:,  tensor(165.5121, dtype=torch.float64, grad_fn=<MeanBackward0>)\n",
      "Loss:,  tensor(162.2417, dtype=torch.float64, grad_fn=<MeanBackward0>)\n",
      "Loss:,  tensor(158.5679, dtype=torch.float64, grad_fn=<MeanBackward0>)\n",
      "Loss:,  tensor(152.8040, dtype=torch.float64, grad_fn=<MeanBackward0>)\n",
      "Loss:,  tensor(151.3689, dtype=torch.float64, grad_fn=<MeanBackward0>)\n",
      "Loss:,  tensor(147.7085, dtype=torch.float64, grad_fn=<MeanBackward0>)\n"
     ]
    },
    {
     "name": "stderr",
     "output_type": "stream",
     "text": [
      " 30%|██▉       | 592/2000 [00:00<00:00, 1423.48it/s]"
     ]
    },
    {
     "name": "stdout",
     "output_type": "stream",
     "text": [
      "Loss:,  tensor(145.0517, dtype=torch.float64, grad_fn=<MeanBackward0>)\n",
      "Loss:,  tensor(139.9036, dtype=torch.float64, grad_fn=<MeanBackward0>)\n",
      "Loss:,  tensor(139.1275, dtype=torch.float64, grad_fn=<MeanBackward0>)\n",
      "Loss:,  tensor(135.2900, dtype=torch.float64, grad_fn=<MeanBackward0>)\n",
      "Loss:,  tensor(133.3670, dtype=torch.float64, grad_fn=<MeanBackward0>)\n",
      "Loss:,  tensor(129.4272, dtype=torch.float64, grad_fn=<MeanBackward0>)\n",
      "Loss:,  tensor(127.5204, dtype=torch.float64, grad_fn=<MeanBackward0>)\n",
      "Loss:,  tensor(123.4538, dtype=torch.float64, grad_fn=<MeanBackward0>)\n",
      "Loss:,  tensor(124.4710, dtype=torch.float64, grad_fn=<MeanBackward0>)\n",
      "Loss:,  tensor(120.5179, dtype=torch.float64, grad_fn=<MeanBackward0>)\n",
      "Loss:,  tensor(117.7319, dtype=torch.float64, grad_fn=<MeanBackward0>)\n",
      "Loss:,  tensor(116.2633, dtype=torch.float64, grad_fn=<MeanBackward0>)\n",
      "Loss:,  tensor(110.7969, dtype=torch.float64, grad_fn=<MeanBackward0>)\n",
      "Loss:,  tensor(109.4066, dtype=torch.float64, grad_fn=<MeanBackward0>)\n",
      "Loss:,  tensor(108.6190, dtype=torch.float64, grad_fn=<MeanBackward0>)\n",
      "Loss:,  tensor(107.4531, dtype=torch.float64, grad_fn=<MeanBackward0>)\n",
      "Loss:,  tensor(106.0177, dtype=torch.float64, grad_fn=<MeanBackward0>)\n",
      "Loss:,  tensor(102.8593, dtype=torch.float64, grad_fn=<MeanBackward0>)\n",
      "Loss:,  tensor(102.0197, dtype=torch.float64, grad_fn=<MeanBackward0>)\n",
      "Loss:,  tensor(97.2729, dtype=torch.float64, grad_fn=<MeanBackward0>)\n",
      "Loss:,  tensor(97.3092, dtype=torch.float64, grad_fn=<MeanBackward0>)\n",
      "Loss:,  tensor(96.1594, dtype=torch.float64, grad_fn=<MeanBackward0>)\n",
      "Loss:,  tensor(93.9886, dtype=torch.float64, grad_fn=<MeanBackward0>)\n",
      "Loss:,  tensor(92.6456, dtype=torch.float64, grad_fn=<MeanBackward0>)\n",
      "Loss:,  tensor(90.5231, dtype=torch.float64, grad_fn=<MeanBackward0>)\n",
      "Loss:,  tensor(91.0503, dtype=torch.float64, grad_fn=<MeanBackward0>)\n",
      "Loss:,  tensor(87.8255, dtype=torch.float64, grad_fn=<MeanBackward0>)\n",
      "Loss:,  tensor(87.9094, dtype=torch.float64, grad_fn=<MeanBackward0>)\n",
      "Loss:,  tensor(84.9500, dtype=torch.float64, grad_fn=<MeanBackward0>)\n",
      "Loss:,  tensor(85.4124, dtype=torch.float64, grad_fn=<MeanBackward0>)\n",
      "Loss:,  tensor(82.5859, dtype=torch.float64, grad_fn=<MeanBackward0>)\n",
      "Loss:,  tensor(82.1359, dtype=torch.float64, grad_fn=<MeanBackward0>)\n",
      "Loss:,  tensor(79.8829, dtype=torch.float64, grad_fn=<MeanBackward0>)\n",
      "Loss:,  tensor(78.7079, dtype=torch.float64, grad_fn=<MeanBackward0>)\n",
      "Loss:,  tensor(76.8499, dtype=torch.float64, grad_fn=<MeanBackward0>)\n",
      "Loss:,  tensor(76.0549, dtype=torch.float64, grad_fn=<MeanBackward0>)\n",
      "Loss:,  tensor(74.5810, dtype=torch.float64, grad_fn=<MeanBackward0>)\n",
      "Loss:,  tensor(73.1951, dtype=torch.float64, grad_fn=<MeanBackward0>)\n",
      "Loss:,  tensor(72.5419, dtype=torch.float64, grad_fn=<MeanBackward0>)\n",
      "Loss:,  tensor(71.5890, dtype=torch.float64, grad_fn=<MeanBackward0>)\n",
      "Loss:,  tensor(72.3141, dtype=torch.float64, grad_fn=<MeanBackward0>)\n",
      "Loss:,  tensor(70.3540, dtype=torch.float64, grad_fn=<MeanBackward0>)\n",
      "Loss:,  tensor(68.5103, dtype=torch.float64, grad_fn=<MeanBackward0>)\n",
      "Loss:,  tensor(67.2655, dtype=torch.float64, grad_fn=<MeanBackward0>)\n",
      "Loss:,  tensor(67.0152, dtype=torch.float64, grad_fn=<MeanBackward0>)\n",
      "Loss:,  tensor(66.4010, dtype=torch.float64, grad_fn=<MeanBackward0>)\n",
      "Loss:,  tensor(65.1699, dtype=torch.float64, grad_fn=<MeanBackward0>)\n",
      "Loss:,  tensor(63.0564, dtype=torch.float64, grad_fn=<MeanBackward0>)\n",
      "Loss:,  tensor(62.4025, dtype=torch.float64, grad_fn=<MeanBackward0>)\n",
      "Loss:,  tensor(63.3346, dtype=torch.float64, grad_fn=<MeanBackward0>)\n",
      "Loss:,  tensor(60.7699, dtype=torch.float64, grad_fn=<MeanBackward0>)\n",
      "Loss:,  tensor(59.1555, dtype=torch.float64, grad_fn=<MeanBackward0>)\n",
      "Loss:,  tensor(61.6154, dtype=torch.float64, grad_fn=<MeanBackward0>)\n",
      "Loss:,  tensor(59.2042, dtype=torch.float64, grad_fn=<MeanBackward0>)\n",
      "Loss:,  tensor(58.6534, dtype=torch.float64, grad_fn=<MeanBackward0>)\n",
      "Loss:,  tensor(57.3561, dtype=torch.float64, grad_fn=<MeanBackward0>)\n",
      "Loss:,  tensor(56.7220, dtype=torch.float64, grad_fn=<MeanBackward0>)\n",
      "Loss:,  tensor(55.7519, dtype=torch.float64, grad_fn=<MeanBackward0>)\n",
      "Loss:,  tensor(55.5290, dtype=torch.float64, grad_fn=<MeanBackward0>)\n",
      "Loss:,  tensor(55.0033, dtype=torch.float64, grad_fn=<MeanBackward0>)\n",
      "Loss:,  tensor(55.9333, dtype=torch.float64, grad_fn=<MeanBackward0>)\n",
      "Loss:,  tensor(53.1681, dtype=torch.float64, grad_fn=<MeanBackward0>)\n",
      "Loss:,  tensor(52.8169, dtype=torch.float64, grad_fn=<MeanBackward0>)\n",
      "Loss:,  "
     ]
    },
    {
     "name": "stderr",
     "output_type": "stream",
     "text": [
      " 46%|████▌     | 912/2000 [00:00<00:00, 1508.51it/s]"
     ]
    },
    {
     "name": "stdout",
     "output_type": "stream",
     "text": [
      "tensor(51.7771, dtype=torch.float64, grad_fn=<MeanBackward0>)\n",
      "Loss:,  tensor(50.1501, dtype=torch.float64, grad_fn=<MeanBackward0>)\n",
      "Loss:,  tensor(49.9383, dtype=torch.float64, grad_fn=<MeanBackward0>)\n",
      "Loss:,  tensor(50.5074, dtype=torch.float64, grad_fn=<MeanBackward0>)\n",
      "Loss:,  tensor(49.5637, dtype=torch.float64, grad_fn=<MeanBackward0>)\n",
      "Loss:,  tensor(48.0581, dtype=torch.float64, grad_fn=<MeanBackward0>)\n",
      "Loss:,  tensor(47.3962, dtype=torch.float64, grad_fn=<MeanBackward0>)\n",
      "Loss:,  tensor(48.7493, dtype=torch.float64, grad_fn=<MeanBackward0>)\n",
      "Loss:,  tensor(46.9922, dtype=torch.float64, grad_fn=<MeanBackward0>)\n",
      "Loss:,  tensor(45.5746, dtype=torch.float64, grad_fn=<MeanBackward0>)\n",
      "Loss:,  tensor(45.1597, dtype=torch.float64, grad_fn=<MeanBackward0>)\n",
      "Loss:,  tensor(44.9970, dtype=torch.float64, grad_fn=<MeanBackward0>)\n",
      "Loss:,  tensor(45.3132, dtype=torch.float64, grad_fn=<MeanBackward0>)\n",
      "Loss:,  tensor(44.7337, dtype=torch.float64, grad_fn=<MeanBackward0>)\n",
      "Loss:,  tensor(43.1584, dtype=torch.float64, grad_fn=<MeanBackward0>)\n",
      "Loss:,  tensor(43.2969, dtype=torch.float64, grad_fn=<MeanBackward0>)\n",
      "Loss:,  tensor(42.5312, dtype=torch.float64, grad_fn=<MeanBackward0>)\n",
      "Loss:,  tensor(42.0422, dtype=torch.float64, grad_fn=<MeanBackward0>)\n",
      "Loss:,  tensor(42.2317, dtype=torch.float64, grad_fn=<MeanBackward0>)\n",
      "Loss:,  tensor(41.0581, dtype=torch.float64, grad_fn=<MeanBackward0>)\n",
      "Loss:,  tensor(39.5700, dtype=torch.float64, grad_fn=<MeanBackward0>)\n",
      "Loss:,  tensor(41.3816, dtype=torch.float64, grad_fn=<MeanBackward0>)\n",
      "Loss:,  tensor(39.5394, dtype=torch.float64, grad_fn=<MeanBackward0>)\n",
      "Loss:,  tensor(37.8809, dtype=torch.float64, grad_fn=<MeanBackward0>)\n",
      "Loss:,  tensor(38.6443, dtype=torch.float64, grad_fn=<MeanBackward0>)\n",
      "Loss:,  tensor(37.8645, dtype=torch.float64, grad_fn=<MeanBackward0>)\n",
      "Loss:,  tensor(36.4936, dtype=torch.float64, grad_fn=<MeanBackward0>)\n",
      "Loss:,  tensor(37.6008, dtype=torch.float64, grad_fn=<MeanBackward0>)\n",
      "Loss:,  tensor(36.7003, dtype=torch.float64, grad_fn=<MeanBackward0>)\n",
      "Loss:,  tensor(37.2536, dtype=torch.float64, grad_fn=<MeanBackward0>)\n",
      "Loss:,  tensor(35.4969, dtype=torch.float64, grad_fn=<MeanBackward0>)\n",
      "Loss:,  tensor(36.4023, dtype=torch.float64, grad_fn=<MeanBackward0>)\n",
      "Loss:,  tensor(36.8763, dtype=torch.float64, grad_fn=<MeanBackward0>)\n",
      "Loss:,  tensor(35.3838, dtype=torch.float64, grad_fn=<MeanBackward0>)\n",
      "Loss:,  tensor(35.5908, dtype=torch.float64, grad_fn=<MeanBackward0>)\n",
      "Loss:,  tensor(34.1281, dtype=torch.float64, grad_fn=<MeanBackward0>)\n",
      "Loss:,  tensor(34.5049, dtype=torch.float64, grad_fn=<MeanBackward0>)\n",
      "Loss:,  tensor(33.7455, dtype=torch.float64, grad_fn=<MeanBackward0>)\n",
      "Loss:,  tensor(33.3035, dtype=torch.float64, grad_fn=<MeanBackward0>)\n",
      "Loss:,  tensor(32.6850, dtype=torch.float64, grad_fn=<MeanBackward0>)\n",
      "Loss:,  tensor(32.3093, dtype=torch.float64, grad_fn=<MeanBackward0>)\n",
      "Loss:,  tensor(32.1509, dtype=torch.float64, grad_fn=<MeanBackward0>)\n",
      "Loss:,  tensor(31.4233, dtype=torch.float64, grad_fn=<MeanBackward0>)\n",
      "Loss:,  tensor(31.5337, dtype=torch.float64, grad_fn=<MeanBackward0>)\n",
      "Loss:,  tensor(31.6568, dtype=torch.float64, grad_fn=<MeanBackward0>)\n",
      "Loss:,  tensor(31.1690, dtype=torch.float64, grad_fn=<MeanBackward0>)\n",
      "Loss:,  tensor(31.0470, dtype=torch.float64, grad_fn=<MeanBackward0>)\n",
      "Loss:,  tensor(30.7379, dtype=torch.float64, grad_fn=<MeanBackward0>)\n",
      "Loss:,  tensor(30.9449, dtype=torch.float64, grad_fn=<MeanBackward0>)\n",
      "Loss:,  tensor(29.7239, dtype=torch.float64, grad_fn=<MeanBackward0>)\n",
      "Loss:,  tensor(29.8997, dtype=torch.float64, grad_fn=<MeanBackward0>)\n",
      "Loss:,  tensor(29.5341, dtype=torch.float64, grad_fn=<MeanBackward0>)\n",
      "Loss:,  tensor(29.9058, dtype=torch.float64, grad_fn=<MeanBackward0>)\n",
      "Loss:,  tensor(27.9997, dtype=torch.float64, grad_fn=<MeanBackward0>)\n",
      "Loss:,  tensor(28.8703, dtype=torch.float64, grad_fn=<MeanBackward0>)\n",
      "Loss:,  tensor(28.2197, dtype=torch.float64, grad_fn=<MeanBackward0>)\n",
      "Loss:,  tensor(28.1173, dtype=torch.float64, grad_fn=<MeanBackward0>)\n",
      "Loss:,  tensor(27.7123, dtype=torch.float64, grad_fn=<MeanBackward0>)\n",
      "Loss:,  tensor(27.9648, dtype=torch.float64, grad_fn=<MeanBackward0>)\n",
      "Loss:,  tensor(27.5369, dtype=torch.float64, grad_fn=<MeanBackward0>)\n",
      "Loss:,  tensor(27.4088, dtype=torch.float64, grad_fn=<MeanBackward0>)\n",
      "Loss:,  tensor(26.9504, dtype=torch.float64, grad_fn=<MeanBackward0>)\n",
      "Loss:,  tensor(26.2878, dtype=torch.float64, grad_fn=<MeanBackward0>)\n",
      "Loss:,  tensor(25.7405, dtype=torch.float64, grad_fn=<MeanBackward0>)\n",
      "Loss:,  tensor(26.2266, dtype=torch.float64, grad_fn=<MeanBackward0>)\n"
     ]
    },
    {
     "name": "stderr",
     "output_type": "stream",
     "text": [
      " 62%|██████▏   | 1237/2000 [00:00<00:00, 1565.84it/s]"
     ]
    },
    {
     "name": "stdout",
     "output_type": "stream",
     "text": [
      "Loss:,  tensor(25.3678, dtype=torch.float64, grad_fn=<MeanBackward0>)\n",
      "Loss:,  tensor(25.1142, dtype=torch.float64, grad_fn=<MeanBackward0>)\n",
      "Loss:,  tensor(25.2611, dtype=torch.float64, grad_fn=<MeanBackward0>)\n",
      "Loss:,  tensor(25.1231, dtype=torch.float64, grad_fn=<MeanBackward0>)\n",
      "Loss:,  tensor(24.9545, dtype=torch.float64, grad_fn=<MeanBackward0>)\n",
      "Loss:,  tensor(24.9804, dtype=torch.float64, grad_fn=<MeanBackward0>)\n",
      "Loss:,  tensor(24.7708, dtype=torch.float64, grad_fn=<MeanBackward0>)\n",
      "Loss:,  tensor(23.8539, dtype=torch.float64, grad_fn=<MeanBackward0>)\n",
      "Loss:,  tensor(23.7407, dtype=torch.float64, grad_fn=<MeanBackward0>)\n",
      "Loss:,  tensor(23.1653, dtype=torch.float64, grad_fn=<MeanBackward0>)\n",
      "Loss:,  tensor(22.6769, dtype=torch.float64, grad_fn=<MeanBackward0>)\n",
      "Loss:,  tensor(23.0373, dtype=torch.float64, grad_fn=<MeanBackward0>)\n",
      "Loss:,  tensor(23.0033, dtype=torch.float64, grad_fn=<MeanBackward0>)\n",
      "Loss:,  tensor(23.7179, dtype=torch.float64, grad_fn=<MeanBackward0>)\n",
      "Loss:,  tensor(22.5671, dtype=torch.float64, grad_fn=<MeanBackward0>)\n",
      "Loss:,  tensor(22.1293, dtype=torch.float64, grad_fn=<MeanBackward0>)\n",
      "Loss:,  tensor(21.4429, dtype=torch.float64, grad_fn=<MeanBackward0>)\n",
      "Loss:,  tensor(22.6892, dtype=torch.float64, grad_fn=<MeanBackward0>)\n",
      "Loss:,  tensor(21.1614, dtype=torch.float64, grad_fn=<MeanBackward0>)\n",
      "Loss:,  tensor(21.9904, dtype=torch.float64, grad_fn=<MeanBackward0>)\n",
      "Loss:,  tensor(22.0941, dtype=torch.float64, grad_fn=<MeanBackward0>)\n",
      "Loss:,  tensor(21.9191, dtype=torch.float64, grad_fn=<MeanBackward0>)\n",
      "Loss:,  tensor(20.9509, dtype=torch.float64, grad_fn=<MeanBackward0>)\n",
      "Loss:,  tensor(21.2630, dtype=torch.float64, grad_fn=<MeanBackward0>)\n",
      "Loss:,  tensor(21.4245, dtype=torch.float64, grad_fn=<MeanBackward0>)\n",
      "Loss:,  tensor(20.5926, dtype=torch.float64, grad_fn=<MeanBackward0>)\n",
      "Loss:,  tensor(19.6829, dtype=torch.float64, grad_fn=<MeanBackward0>)\n",
      "Loss:,  tensor(19.7378, dtype=torch.float64, grad_fn=<MeanBackward0>)\n",
      "Loss:,  tensor(20.5335, dtype=torch.float64, grad_fn=<MeanBackward0>)\n",
      "Loss:,  tensor(19.3066, dtype=torch.float64, grad_fn=<MeanBackward0>)\n",
      "Loss:,  tensor(19.3806, dtype=torch.float64, grad_fn=<MeanBackward0>)\n",
      "Loss:,  tensor(18.5785, dtype=torch.float64, grad_fn=<MeanBackward0>)\n",
      "Loss:,  tensor(19.5203, dtype=torch.float64, grad_fn=<MeanBackward0>)\n",
      "Loss:,  tensor(19.2182, dtype=torch.float64, grad_fn=<MeanBackward0>)\n",
      "Loss:,  tensor(19.4487, dtype=torch.float64, grad_fn=<MeanBackward0>)\n",
      "Loss:,  tensor(18.8570, dtype=torch.float64, grad_fn=<MeanBackward0>)\n",
      "Loss:,  tensor(19.1860, dtype=torch.float64, grad_fn=<MeanBackward0>)\n",
      "Loss:,  tensor(18.1352, dtype=torch.float64, grad_fn=<MeanBackward0>)\n",
      "Loss:,  tensor(18.2759, dtype=torch.float64, grad_fn=<MeanBackward0>)\n",
      "Loss:,  tensor(18.0344, dtype=torch.float64, grad_fn=<MeanBackward0>)\n",
      "Loss:,  tensor(17.7957, dtype=torch.float64, grad_fn=<MeanBackward0>)\n",
      "Loss:,  tensor(18.5508, dtype=torch.float64, grad_fn=<MeanBackward0>)\n",
      "Loss:,  tensor(18.0651, dtype=torch.float64, grad_fn=<MeanBackward0>)\n",
      "Loss:,  tensor(17.8453, dtype=torch.float64, grad_fn=<MeanBackward0>)\n",
      "Loss:,  tensor(17.8864, dtype=torch.float64, grad_fn=<MeanBackward0>)\n",
      "Loss:,  tensor(17.3942, dtype=torch.float64, grad_fn=<MeanBackward0>)\n",
      "Loss:,  tensor(17.9474, dtype=torch.float64, grad_fn=<MeanBackward0>)\n",
      "Loss:,  tensor(17.2753, dtype=torch.float64, grad_fn=<MeanBackward0>)\n",
      "Loss:,  tensor(17.8748, dtype=torch.float64, grad_fn=<MeanBackward0>)\n",
      "Loss:,  tensor(17.4476, dtype=torch.float64, grad_fn=<MeanBackward0>)\n",
      "Loss:,  tensor(16.4704, dtype=torch.float64, grad_fn=<MeanBackward0>)\n",
      "Loss:,  tensor(17.0855, dtype=torch.float64, grad_fn=<MeanBackward0>)\n",
      "Loss:,  tensor(16.9867, dtype=torch.float64, grad_fn=<MeanBackward0>)\n",
      "Loss:,  tensor(16.5809, dtype=torch.float64, grad_fn=<MeanBackward0>)\n",
      "Loss:,  tensor(16.3799, dtype=torch.float64, grad_fn=<MeanBackward0>)\n",
      "Loss:,  tensor(16.1352, dtype=torch.float64, grad_fn=<MeanBackward0>)\n",
      "Loss:,  tensor(16.1572, dtype=torch.float64, grad_fn=<MeanBackward0>)\n",
      "Loss:,  tensor(16.7887, dtype=torch.float64, grad_fn=<MeanBackward0>)\n",
      "Loss:,  tensor(16.5298, dtype=torch.float64, grad_fn=<MeanBackward0>)\n",
      "Loss:,  tensor(15.2409, dtype=torch.float64, grad_fn=<MeanBackward0>)\n",
      "Loss:,  tensor(14.7604, dtype=torch.float64, grad_fn=<MeanBackward0>)\n",
      "Loss:,  tensor(15.6812, dtype=torch.float64, grad_fn=<MeanBackward0>)\n",
      "Loss:,  tensor(16.1324, dtype=torch.float64, grad_fn=<MeanBackward0>)\n",
      "Loss:,  tensor(15.6907, dtype=torch.float64, grad_fn=<MeanBackward0>)\n",
      "Loss:,  tensor(14.9433, dtype=torch.float64, grad_fn=<MeanBackward0>)\n",
      "Loss:,  tensor(15.2754, dtype=torch.float64, grad_fn=<MeanBackward0>)\n"
     ]
    },
    {
     "name": "stderr",
     "output_type": "stream",
     "text": [
      " 78%|███████▊  | 1551/2000 [00:01<00:00, 1558.56it/s]"
     ]
    },
    {
     "name": "stdout",
     "output_type": "stream",
     "text": [
      "Loss:,  tensor(15.6954, dtype=torch.float64, grad_fn=<MeanBackward0>)\n",
      "Loss:,  tensor(14.7864, dtype=torch.float64, grad_fn=<MeanBackward0>)\n",
      "Loss:,  tensor(15.3956, dtype=torch.float64, grad_fn=<MeanBackward0>)\n",
      "Loss:,  tensor(14.4113, dtype=torch.float64, grad_fn=<MeanBackward0>)\n",
      "Loss:,  tensor(15.0440, dtype=torch.float64, grad_fn=<MeanBackward0>)\n",
      "Loss:,  tensor(14.4801, dtype=torch.float64, grad_fn=<MeanBackward0>)\n",
      "Loss:,  tensor(14.9643, dtype=torch.float64, grad_fn=<MeanBackward0>)\n",
      "Loss:,  tensor(13.6349, dtype=torch.float64, grad_fn=<MeanBackward0>)\n",
      "Loss:,  tensor(13.7751, dtype=torch.float64, grad_fn=<MeanBackward0>)\n",
      "Loss:,  tensor(13.7276, dtype=torch.float64, grad_fn=<MeanBackward0>)\n",
      "Loss:,  tensor(13.9320, dtype=torch.float64, grad_fn=<MeanBackward0>)\n",
      "Loss:,  tensor(14.1282, dtype=torch.float64, grad_fn=<MeanBackward0>)\n",
      "Loss:,  tensor(12.8759, dtype=torch.float64, grad_fn=<MeanBackward0>)\n",
      "Loss:,  tensor(13.1616, dtype=torch.float64, grad_fn=<MeanBackward0>)\n",
      "Loss:,  tensor(13.4913, dtype=torch.float64, grad_fn=<MeanBackward0>)\n",
      "Loss:,  tensor(13.5692, dtype=torch.float64, grad_fn=<MeanBackward0>)\n",
      "Loss:,  tensor(13.3006, dtype=torch.float64, grad_fn=<MeanBackward0>)\n",
      "Loss:,  tensor(13.3187, dtype=torch.float64, grad_fn=<MeanBackward0>)\n",
      "Loss:,  tensor(13.0650, dtype=torch.float64, grad_fn=<MeanBackward0>)\n",
      "Loss:,  tensor(12.8896, dtype=torch.float64, grad_fn=<MeanBackward0>)\n",
      "Loss:,  tensor(13.4444, dtype=torch.float64, grad_fn=<MeanBackward0>)\n",
      "Loss:,  tensor(13.4363, dtype=torch.float64, grad_fn=<MeanBackward0>)\n",
      "Loss:,  tensor(13.2589, dtype=torch.float64, grad_fn=<MeanBackward0>)\n",
      "Loss:,  tensor(13.5609, dtype=torch.float64, grad_fn=<MeanBackward0>)\n",
      "Loss:,  tensor(13.2392, dtype=torch.float64, grad_fn=<MeanBackward0>)\n",
      "Loss:,  tensor(13.3036, dtype=torch.float64, grad_fn=<MeanBackward0>)\n",
      "Loss:,  tensor(12.4176, dtype=torch.float64, grad_fn=<MeanBackward0>)\n",
      "Loss:,  tensor(11.9853, dtype=torch.float64, grad_fn=<MeanBackward0>)\n",
      "Loss:,  tensor(12.4812, dtype=torch.float64, grad_fn=<MeanBackward0>)\n",
      "Loss:,  tensor(12.3266, dtype=torch.float64, grad_fn=<MeanBackward0>)\n",
      "Loss:,  tensor(11.9745, dtype=torch.float64, grad_fn=<MeanBackward0>)\n",
      "Loss:,  tensor(11.7979, dtype=torch.float64, grad_fn=<MeanBackward0>)\n",
      "Loss:,  tensor(11.8260, dtype=torch.float64, grad_fn=<MeanBackward0>)\n",
      "Loss:,  tensor(11.5430, dtype=torch.float64, grad_fn=<MeanBackward0>)\n",
      "Loss:,  tensor(11.4379, dtype=torch.float64, grad_fn=<MeanBackward0>)\n",
      "Loss:,  tensor(12.2135, dtype=torch.float64, grad_fn=<MeanBackward0>)\n",
      "Loss:,  tensor(11.8307, dtype=torch.float64, grad_fn=<MeanBackward0>)\n",
      "Loss:,  tensor(11.1351, dtype=torch.float64, grad_fn=<MeanBackward0>)\n",
      "Loss:,  tensor(11.6719, dtype=torch.float64, grad_fn=<MeanBackward0>)\n",
      "Loss:,  tensor(11.3322, dtype=torch.float64, grad_fn=<MeanBackward0>)\n",
      "Loss:,  tensor(11.1462, dtype=torch.float64, grad_fn=<MeanBackward0>)\n",
      "Loss:,  tensor(11.9474, dtype=torch.float64, grad_fn=<MeanBackward0>)\n",
      "Loss:,  tensor(10.7499, dtype=torch.float64, grad_fn=<MeanBackward0>)\n",
      "Loss:,  tensor(11.0571, dtype=torch.float64, grad_fn=<MeanBackward0>)\n",
      "Loss:,  tensor(10.7512, dtype=torch.float64, grad_fn=<MeanBackward0>)\n",
      "Loss:,  tensor(11.0876, dtype=torch.float64, grad_fn=<MeanBackward0>)\n",
      "Loss:,  tensor(11.4295, dtype=torch.float64, grad_fn=<MeanBackward0>)\n",
      "Loss:,  tensor(11.4302, dtype=torch.float64, grad_fn=<MeanBackward0>)\n",
      "Loss:,  tensor(11.0481, dtype=torch.float64, grad_fn=<MeanBackward0>)\n",
      "Loss:,  tensor(10.6280, dtype=torch.float64, grad_fn=<MeanBackward0>)\n",
      "Loss:,  tensor(10.9820, dtype=torch.float64, grad_fn=<MeanBackward0>)\n",
      "Loss:,  tensor(11.1037, dtype=torch.float64, grad_fn=<MeanBackward0>)\n",
      "Loss:,  tensor(11.0921, dtype=torch.float64, grad_fn=<MeanBackward0>)\n",
      "Loss:,  tensor(10.3507, dtype=torch.float64, grad_fn=<MeanBackward0>)\n",
      "Loss:,  tensor(10.4231, dtype=torch.float64, grad_fn=<MeanBackward0>)\n",
      "Loss:,  tensor(9.8809, dtype=torch.float64, grad_fn=<MeanBackward0>)\n",
      "Loss:,  tensor(10.5660, dtype=torch.float64, grad_fn=<MeanBackward0>)\n",
      "Loss:,  tensor(10.1888, dtype=torch.float64, grad_fn=<MeanBackward0>)\n",
      "Loss:,  tensor(10.1665, dtype=torch.float64, grad_fn=<MeanBackward0>)\n",
      "Loss:,  tensor(9.8619, dtype=torch.float64, grad_fn=<MeanBackward0>)\n",
      "Loss:,  tensor(9.6815, dtype=torch.float64, grad_fn=<MeanBackward0>)\n",
      "Loss:,  tensor(9.5152, dtype=torch.float64, grad_fn=<MeanBackward0>)\n",
      "Loss:,  tensor(9.9512, dtype=torch.float64, grad_fn=<MeanBackward0>)\n"
     ]
    },
    {
     "name": "stderr",
     "output_type": "stream",
     "text": [
      "\r",
      " 85%|████████▌ | 1705/2000 [00:01<00:00, 1489.80it/s]"
     ]
    },
    {
     "name": "stdout",
     "output_type": "stream",
     "text": [
      "Loss:,  tensor(9.4113, dtype=torch.float64, grad_fn=<MeanBackward0>)\n",
      "Loss:,  tensor(10.0642, dtype=torch.float64, grad_fn=<MeanBackward0>)\n",
      "Loss:,  tensor(10.0709, dtype=torch.float64, grad_fn=<MeanBackward0>)\n",
      "Loss:,  tensor(10.1125, dtype=torch.float64, grad_fn=<MeanBackward0>)\n",
      "Loss:,  tensor(9.0711, dtype=torch.float64, grad_fn=<MeanBackward0>)\n",
      "Loss:,  tensor(9.1869, dtype=torch.float64, grad_fn=<MeanBackward0>)\n",
      "Loss:,  tensor(9.7414, dtype=torch.float64, grad_fn=<MeanBackward0>)\n",
      "Loss:,  tensor(9.4204, dtype=torch.float64, grad_fn=<MeanBackward0>)\n",
      "Loss:,  tensor(9.0034, dtype=torch.float64, grad_fn=<MeanBackward0>)\n",
      "Loss:,  tensor(8.9528, dtype=torch.float64, grad_fn=<MeanBackward0>)\n",
      "Loss:,  tensor(9.6041, dtype=torch.float64, grad_fn=<MeanBackward0>)\n",
      "Loss:,  tensor(9.1575, dtype=torch.float64, grad_fn=<MeanBackward0>)\n",
      "Loss:,  tensor(9.0180, dtype=torch.float64, grad_fn=<MeanBackward0>)\n",
      "Loss:,  tensor(9.5416, dtype=torch.float64, grad_fn=<MeanBackward0>)\n",
      "Loss:,  tensor(8.8437, dtype=torch.float64, grad_fn=<MeanBackward0>)\n",
      "Loss:,  tensor(8.6301, dtype=torch.float64, grad_fn=<MeanBackward0>)\n",
      "Loss:,  tensor(8.8600, dtype=torch.float64, grad_fn=<MeanBackward0>)\n",
      "Loss:,  tensor(8.9489, dtype=torch.float64, grad_fn=<MeanBackward0>)\n",
      "Loss:,  tensor(8.3460, dtype=torch.float64, grad_fn=<MeanBackward0>)\n",
      "Loss:,  tensor(8.4905, dtype=torch.float64, grad_fn=<MeanBackward0>)\n",
      "Loss:,  tensor(8.6040, dtype=torch.float64, grad_fn=<MeanBackward0>)\n",
      "Loss:,  tensor(8.1155, dtype=torch.float64, grad_fn=<MeanBackward0>)\n",
      "Loss:,  tensor(8.1974, dtype=torch.float64, grad_fn=<MeanBackward0>)\n",
      "Loss:,  tensor(8.6751, dtype=torch.float64, grad_fn=<MeanBackward0>)\n",
      "Loss:,  tensor(8.8751, dtype=torch.float64, grad_fn=<MeanBackward0>)\n",
      "Loss:,  tensor(8.3673, dtype=torch.float64, grad_fn=<MeanBackward0>)\n",
      "Loss:,  tensor(8.4005, dtype=torch.float64, grad_fn=<MeanBackward0>)\n",
      "Loss:,  tensor(8.0831, dtype=torch.float64, grad_fn=<MeanBackward0>)\n",
      "Loss:,  tensor(8.1127, dtype=torch.float64, grad_fn=<MeanBackward0>)\n",
      "Loss:,  tensor(8.8080, dtype=torch.float64, grad_fn=<MeanBackward0>)\n",
      "Loss:,  tensor(7.8755, dtype=torch.float64, grad_fn=<MeanBackward0>)\n",
      "Loss:,  tensor(8.2083, dtype=torch.float64, grad_fn=<MeanBackward0>)\n",
      "Loss:,  tensor(8.9535, dtype=torch.float64, grad_fn=<MeanBackward0>)\n",
      "Loss:,  tensor(8.5403, dtype=torch.float64, grad_fn=<MeanBackward0>)\n",
      "Loss:,  tensor(8.5575, dtype=torch.float64, grad_fn=<MeanBackward0>)\n",
      "Loss:,  tensor(7.4233, dtype=torch.float64, grad_fn=<MeanBackward0>)\n",
      "Loss:,  tensor(8.0344, dtype=torch.float64, grad_fn=<MeanBackward0>)\n",
      "Loss:,  tensor(8.2557, dtype=torch.float64, grad_fn=<MeanBackward0>)\n",
      "Loss:,  tensor(8.6081, dtype=torch.float64, grad_fn=<MeanBackward0>)\n",
      "Loss:,  tensor(7.4639, dtype=torch.float64, grad_fn=<MeanBackward0>)\n",
      "Loss:,  tensor(7.0209, dtype=torch.float64, grad_fn=<MeanBackward0>)\n",
      "Loss:,  tensor(7.3578, dtype=torch.float64, grad_fn=<MeanBackward0>)\n",
      "Loss:,  tensor(7.1623, dtype=torch.float64, grad_fn=<MeanBackward0>)\n",
      "Loss:,  tensor(7.9733, dtype=torch.float64, grad_fn=<MeanBackward0>)\n",
      "Loss:,  tensor(7.5144, dtype=torch.float64, grad_fn=<MeanBackward0>)\n",
      "Loss:,  tensor(7.0795, dtype=torch.float64, grad_fn=<MeanBackward0>)\n",
      "Loss:,  tensor(7.3475, dtype=torch.float64, grad_fn=<MeanBackward0>)\n",
      "Loss:,  tensor(7.0959, dtype=torch.float64, grad_fn=<MeanBackward0>)\n",
      "Loss:,  tensor(7.4664, dtype=torch.float64, grad_fn=<MeanBackward0>)\n",
      "Loss:,  tensor(7.1253, dtype=torch.float64, grad_fn=<MeanBackward0>)\n",
      "Loss:,  tensor(7.3954, dtype=torch.float64, grad_fn=<MeanBackward0>)\n",
      "Loss:,  tensor(7.9039, dtype=torch.float64, grad_fn=<MeanBackward0>)\n",
      "Loss:,  tensor(7.4654, dtype=torch.float64, grad_fn=<MeanBackward0>)\n",
      "Loss:,  tensor(7.0837, dtype=torch.float64, grad_fn=<MeanBackward0>)\n",
      "Loss:,  tensor(7.0900, dtype=torch.float64, grad_fn=<MeanBackward0>)\n",
      "Loss:,  tensor(7.2495, dtype=torch.float64, grad_fn=<MeanBackward0>)\n",
      "Loss:,  tensor(6.8009, dtype=torch.float64, grad_fn=<MeanBackward0>)\n"
     ]
    },
    {
     "name": "stderr",
     "output_type": "stream",
     "text": [
      "100%|██████████| 2000/2000 [00:01<00:00, 1511.20it/s]"
     ]
    },
    {
     "name": "stdout",
     "output_type": "stream",
     "text": [
      "Loss:,  tensor(7.1265, dtype=torch.float64, grad_fn=<MeanBackward0>)\n",
      "Loss:,  tensor(6.6782, dtype=torch.float64, grad_fn=<MeanBackward0>)\n",
      "Loss:,  tensor(6.5342, dtype=torch.float64, grad_fn=<MeanBackward0>)\n",
      "Loss:,  tensor(6.7936, dtype=torch.float64, grad_fn=<MeanBackward0>)\n",
      "Loss:,  tensor(7.0428, dtype=torch.float64, grad_fn=<MeanBackward0>)\n",
      "Loss:,  tensor(7.0179, dtype=torch.float64, grad_fn=<MeanBackward0>)\n",
      "Loss:,  tensor(6.6734, dtype=torch.float64, grad_fn=<MeanBackward0>)\n",
      "Loss:,  tensor(6.2766, dtype=torch.float64, grad_fn=<MeanBackward0>)\n",
      "Loss:,  tensor(6.2757, dtype=torch.float64, grad_fn=<MeanBackward0>)\n",
      "Loss:,  tensor(6.3073, dtype=torch.float64, grad_fn=<MeanBackward0>)\n",
      "Loss:,  tensor(7.5671, dtype=torch.float64, grad_fn=<MeanBackward0>)\n",
      "Loss:,  tensor(6.5072, dtype=torch.float64, grad_fn=<MeanBackward0>)\n",
      "Loss:,  tensor(6.3472, dtype=torch.float64, grad_fn=<MeanBackward0>)\n",
      "Loss:,  tensor(5.9894, dtype=torch.float64, grad_fn=<MeanBackward0>)\n",
      "Loss:,  tensor(6.1214, dtype=torch.float64, grad_fn=<MeanBackward0>)\n",
      "Loss:,  tensor(6.4645, dtype=torch.float64, grad_fn=<MeanBackward0>)\n",
      "Loss:,  tensor(6.2070, dtype=torch.float64, grad_fn=<MeanBackward0>)\n",
      "Loss:,  tensor(6.7706, dtype=torch.float64, grad_fn=<MeanBackward0>)\n",
      "Loss:,  tensor(5.8546, dtype=torch.float64, grad_fn=<MeanBackward0>)\n",
      "Loss:,  tensor(6.2395, dtype=torch.float64, grad_fn=<MeanBackward0>)\n",
      "Loss:,  tensor(5.8407, dtype=torch.float64, grad_fn=<MeanBackward0>)\n",
      "Loss:,  tensor(6.2107, dtype=torch.float64, grad_fn=<MeanBackward0>)\n",
      "Loss:,  tensor(5.9130, dtype=torch.float64, grad_fn=<MeanBackward0>)\n",
      "Loss:,  tensor(6.3718, dtype=torch.float64, grad_fn=<MeanBackward0>)\n",
      "Loss:,  tensor(6.3041, dtype=torch.float64, grad_fn=<MeanBackward0>)\n",
      "Loss:,  tensor(5.7074, dtype=torch.float64, grad_fn=<MeanBackward0>)\n",
      "Loss:,  tensor(5.5653, dtype=torch.float64, grad_fn=<MeanBackward0>)\n",
      "Loss:,  tensor(6.4512, dtype=torch.float64, grad_fn=<MeanBackward0>)\n",
      "Loss:,  tensor(6.2426, dtype=torch.float64, grad_fn=<MeanBackward0>)\n",
      "Loss:,  tensor(6.2323, dtype=torch.float64, grad_fn=<MeanBackward0>)\n"
     ]
    },
    {
     "name": "stderr",
     "output_type": "stream",
     "text": [
      "\n"
     ]
    }
   ],
   "source": [
    "num_epochs = 2000\n",
    "for epoch in tqdm(range(num_epochs)):\n",
    "    index = np.random.permutation(num_samples).reshape((batch_size, deg_freedom))\n",
    "    \n",
    "    chi_stat = ((pred_mean[index] - gt_observations[index])**2/pred_var[index]).sum(axis=1)\n",
    "#     chi_stat = ((pred_mean[index] - gt_observations[index])**2/pred_var).sum(axis=1)\n",
    "    # print(chi_stat.shape)\n",
    "\n",
    "    batch_loss = ((chi_stat- deg_freedom)**2/(2*deg_freedom)).mean()\n",
    "#     batch_loss = ((chi_stat- deg_freedom)**2/(2*deg_freedom)).sum()\n",
    "    # print(batch_loss)\n",
    "\n",
    "    optim.zero_grad()\n",
    "    batch_loss.backward()\n",
    "    optim.step()\n",
    "    \n",
    "    if epoch%5==0:\n",
    "        print(\"Loss:, \", batch_loss)\n"
   ]
  },
  {
   "cell_type": "code",
   "execution_count": 257,
   "metadata": {},
   "outputs": [
    {
     "name": "stdout",
     "output_type": "stream",
     "text": [
      "Absolute Mean Error:  0.45330112175955584\n",
      "Absolute Variance Error:  0.8769886359977384\n",
      "Calibration Error:  6.811064719530656\n",
      "tensor([2.6755, 2.8168, 8.9796,  ..., 1.5852, 5.5392, 1.6911],\n",
      "       requires_grad=True)\n"
     ]
    }
   ],
   "source": [
    "print(\"Absolute Mean Error: \",(pred_mean.detach().numpy()-gt_mu).mean())\n",
    "print(\"Absolute Variance Error: \", (pred_var.detach().numpy()-gt_var).mean())\n",
    "print(\"Calibration Error: \", torch.abs((pred_mean-gt_observations)**2-pred_var).detach().numpy().mean())\n",
    "print(pred_var)"
   ]
  },
  {
   "cell_type": "code",
   "execution_count": 258,
   "metadata": {},
   "outputs": [
    {
     "name": "stdout",
     "output_type": "stream",
     "text": [
      "Mean:  0.1855100584549643 Var:  1.3610111741504927\n"
     ]
    },
    {
     "data": {
      "image/png": "[encoded data removed]",
      "text/plain": [
       "<Figure size 360x360 with 1 Axes>"
      ]
     },
     "metadata": {
      "needs_background": "light"
     },
     "output_type": "display_data"
    }
   ],
   "source": [
    "normalized_x = ((pred_mean-gt_observations)/torch.sqrt(pred_var)).detach().numpy()\n",
    "print(\"Mean: \", normalized_x.mean(), \"Var: \", normalized_x.var())\n",
    "sns.displot(normalized_x, kind=\"kde\")\n",
    "plt.show()\n"
   ]
  },
  {
   "cell_type": "markdown",
   "metadata": {},
   "source": [
    "We see that the variable $Z = \\frac{x-\\mu}{\\sigma}$ really follows $\\mathcal N(0.18,1.36)$. Which is very close to $\\mathcal N(0,1)$, where this minor difference can be due to approximation of $\\chi_K^2 \\approx \\mathcal N(K, 2K)$\n",
    "\n",
    "## Which shows that using chi-sqaure loss works."
   ]
  }
 ],
 "metadata": {
  "kernelspec": {
   "display_name": "Python 3",
   "language": "python",
   "name": "python3"
  },
  "language_info": {
   "codemirror_mode": {
    "name": "ipython",
    "version": 3
   },
   "file_extension": ".py",
   "mimetype": "text/x-python",
   "name": "python",
   "nbconvert_exporter": "python",
   "pygments_lexer": "ipython3",
   "version": "3.8.5"
  }
 },
 "nbformat": 4,
 "nbformat_minor": 4
}
